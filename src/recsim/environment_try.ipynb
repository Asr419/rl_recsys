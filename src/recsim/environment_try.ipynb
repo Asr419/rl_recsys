Observation 0
Available documents
music_id 10 index 141024    0
Name: label, dtype: int32
music_id 11 index 60885    0
Name: label, dtype: int32
music_id 12 index 51465    1
Name: label, dtype: int32
music_id 13 index 160728    0
Name: label, dtype: int32
music_id 14 index 64720    2
Name: label, dtype: int32
music_id 15 index 34366    1
Name: label, dtype: int32
music_id 16 index 69026    1
Name: label, dtype: int32
music_id 17 index 57021    2
Name: label, dtype: int32
music_id 18 index 108500    1
Name: label, dtype: int32
music_id 19 index 64362    1
Name: label, dtype: int32
Noisy user state observation
[
    0.57538241
]
141024   -1.500216
dtype: float64
60885   -1.520316
dtype: float64
51465   -1.389416
dtype: float64
160728   -1.450216
dtype: float64
64720    0.091784
dtype: float64
34366   -1.460216
dtype: float64
69026   -1.228516
dtype: float64
57021    0.123784
dtype: float64
108500   -1.456116
dtype: float64
64362   -1.417916
dtype: float64
Observation 1
Available documents
music_id 20 index 13985    1
Name: label, dtype: int32
music_id 21 index 125648    0
Name: label, dtype: int32
music_id 22 index 12485    1
Name: label, dtype: int32
music_id 23 index 131280    0
Name: label, dtype: int32
music_id 24 index 131419    2
Name: label, dtype: int32
music_id 25 index 47313    2
Name: label, dtype: int32
music_id 26 index 71001    1
Name: label, dtype: int32
music_id 27 index 42676    0
Name: label, dtype: int32
music_id 28 index 76257    2
Name: label, dtype: int32
music_id 29 index 60868    0
Name: label, dtype: int32
User responses to documents in the slate
{'click': 1, 'engagement': array([
        -1.5002161
    ])
}
{'click': 1, 'engagement': array([
        -1.5203161
    ])
}
{'click': 1, 'engagement': array([
        -1.3894161
    ])
}
{'click': 1, 'engagement': array([
        -1.4502161
    ])
}
{'click': 1, 'engagement': array([
        0.0917839
    ])
}
{'click': 1, 'engagement': array([
        -1.4602161
    ])
}
{'click': 1, 'engagement': array([
        -1.2285161
    ])
}
{'click': 1, 'engagement': array([
        0.1237839
    ])
}
{'click': 1, 'engagement': array([
        -1.4561161
    ])
}
{'click': 1, 'engagement': array([
        -1.4179161
    ])
}
Noisy user state observation
[
    [
        0.07465818
    ]
]