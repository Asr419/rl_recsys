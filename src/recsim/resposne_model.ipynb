{
 "cells": [
  {
   "cell_type": "code",
   "execution_count": 89,
   "metadata": {},
   "outputs": [],
   "source": [
    "import numpy as np\n",
    "from gym import spaces\n",
    "import matplotlib.pyplot as plt\n",
    "from scipy import stats\n",
    "import random\n",
    "from recsim import document\n",
    "from recsim import user\n",
    "from recsim.choice_model import MultinomialLogitChoiceModel\n",
    "from recsim.simulator import environment\n",
    "from recsim.simulator import recsim_gym\n",
    "from user_sampler import LTSStaticUserSampler\n",
    "from user_sampler import LTSUserState\n",
    "from document_sampler import LTSDocumentSampler"
   ]
  },
  {
   "cell_type": "code",
   "execution_count": 90,
   "metadata": {},
   "outputs": [],
   "source": [
    "class LTSResponse(user.AbstractResponse):\n",
    "  # The maximum degree of engagement.\n",
    "  MAX_ENGAGEMENT_MAGNITUDE = 100.0\n",
    "\n",
    "  def __init__(self, clicked=False, engagement=0.0):\n",
    "    self.clicked = clicked\n",
    "    self.engagement = engagement\n",
    "\n",
    "  def create_observation(self):\n",
    "    return {'click': int(self.clicked), 'engagement': np.array(self.engagement)}\n",
    "\n",
    "  @classmethod\n",
    "  def response_space(cls):\n",
    "    # `engagement` feature range is [0, MAX_ENGAGEMENT_MAGNITUDE]\n",
    "    return spaces.Dict({\n",
    "        'click':\n",
    "            spaces.Discrete(2),\n",
    "        'engagement':\n",
    "            spaces.Box(\n",
    "                low=0.0,\n",
    "                high=cls.MAX_ENGAGEMENT_MAGNITUDE,\n",
    "                shape=tuple(),\n",
    "                dtype=np.float32)\n",
    "    })"
   ]
  },
  {
   "cell_type": "code",
   "execution_count": 91,
   "metadata": {},
   "outputs": [],
   "source": [
    "def user_init(self,\n",
    "              slate_size,\n",
    "              seed=0):\n",
    "\n",
    "  super(LTSUserModel,\n",
    "        self).__init__(LTSResponse,\n",
    "                       LTSStaticUserSampler(LTSUserState,\n",
    "                                            seed=seed), slate_size)\n",
    "  self.choice_model = MultinomialLogitChoiceModel({})"
   ]
  },
  {
   "cell_type": "code",
   "execution_count": 92,
   "metadata": {},
   "outputs": [],
   "source": [
    "def simulate_response(self, slate_documents):\n",
    "  # List of empty responses\n",
    "  responses = [self._response_model_ctor() for _ in slate_documents]\n",
    "  # Get click from of choice model.\n",
    "  self.choice_model.score_documents(\n",
    "    self._user_state, [doc.create_observation() for doc in slate_documents])\n",
    "  scores = self.choice_model.scores\n",
    "  selected_index = self.choice_model.choose_item()\n",
    "  # Populate clicked item.\n",
    "  self._generate_response(slate_documents[selected_index],\n",
    "                          responses[selected_index])\n",
    "  return responses\n",
    "\n",
    "def generate_response(self, doc, response):\n",
    "  response.clicked = True\n",
    "  # linear interpolation between choc and kale.\n",
    "  if (self._user_state.age>40):\n",
    "    engagement_loc = 1/abs(((doc.acousticness-self._user_state.acousticness)+(doc.liveness-self._user_state.liveness)))\n",
    "    engagement_loc *= self._user_state.satisfaction\n",
    "    engagement_scale = (doc.acousticness * (self._user_state.label+1)\n",
    "                      + ((1 - doc.liveness)\n",
    "                          * (self._user_state.label+1)))\n",
    "  else:\n",
    "    engagement_loc = 1/abs((doc.danceability-self._user_state.danceability)+(doc.valence-self._user_state.valence))\n",
    "    engagement_loc *= self._user_state.satisfaction\n",
    "    engagement_scale = (doc.danceability* (self._user_state.label+1)\n",
    "                      + ((1 - doc.valence)\n",
    "                          * (self._user_state.label+1)))\n",
    "  log_engagement = np.random.normal(loc=engagement_loc,\n",
    "                                    scale=engagement_scale)\n",
    "  response.engagement = np.exp(log_engagement)\n",
    "\n",
    "def update_state(self, slate_documents, responses):\n",
    "  for doc, response in zip(slate_documents, responses):\n",
    "    if response.clicked:\n",
    "      label = np.random.normal(scale=self._user_state.label)\n",
    "      net_genre_exposure = (self._user_state.valence\n",
    "                                * self._user_state.danceability\n",
    "                                - 2.0 * (doc.danceability - 0.5)\n",
    "                                + label\n",
    "                              )\n",
    "      self._user_state.net_genre_exposure = net_genre_exposure\n",
    "      satisfaction = 1 / (1.0 + np.exp(-self._user_state.label\n",
    "                                        * net_genre_exposure)\n",
    "                          )\n",
    "      self._user_state.satisfaction = satisfaction\n",
    "      self._user_state.time_budget -= 1\n",
    "      return\n"
   ]
  },
  {
   "cell_type": "code",
   "execution_count": 93,
   "metadata": {},
   "outputs": [],
   "source": [
    "def is_terminal(self):\n",
    "  \"\"\"Returns a boolean indicating if the session is over.\"\"\"\n",
    "  return self._user_state.time_budget <= 0"
   ]
  },
  {
   "cell_type": "code",
   "execution_count": 94,
   "metadata": {},
   "outputs": [],
   "source": [
    "LTSUserModel = type(\"LTSUserModel\", (user.AbstractUserModel,),\n",
    "                    {\"__init__\": user_init,\n",
    "                     \"is_terminal\": is_terminal,\n",
    "                     \"update_state\": update_state,\n",
    "                     \"simulate_response\": simulate_response,\n",
    "                     \"_generate_response\": generate_response})"
   ]
  },
  {
   "cell_type": "code",
   "execution_count": 95,
   "metadata": {},
   "outputs": [
    {
     "name": "stdout",
     "output_type": "stream",
     "text": [
      "146494    0\n",
      "Name: doc_id, dtype: int64\n",
      "<class 'dict'>\n"
     ]
    },
    {
     "name": "stderr",
     "output_type": "stream",
     "text": [
      "/raid/home/aayush/git/rl_recsys/src/user_sampler.py:118: DeprecationWarning: This function is deprecated. Please call randint(20, 60 + 1) instead\n",
      "  self._state_parameters[\"age\"] = np.random.random_integers(20, 60)\n",
      "/raid/home/aayush/git/rl_recsys/src/user_sampler.py:119: DeprecationWarning: This function is deprecated. Please call randint(1, 2 + 1) instead\n",
      "  self._state_parameters[\"gender\"] = np.random.random_integers(2)\n",
      "/raid/home/aayush/git/rl_recsys/src/user_sampler.py:134: DeprecationWarning: This function is deprecated. Please call randint(1, 4 + 1) instead\n",
      "  self._state_parameters[\"mood\"] = np.random.random_integers(4)\n"
     ]
    },
    {
     "ename": "TypeError",
     "evalue": "'dict' object is not callable",
     "output_type": "error",
     "traceback": [
      "\u001b[0;31m---------------------------------------------------------------------------\u001b[0m",
      "\u001b[0;31mTypeError\u001b[0m                                 Traceback (most recent call last)",
      "Cell \u001b[0;32mIn [95], line 3\u001b[0m\n\u001b[1;32m      1\u001b[0m slate_size \u001b[38;5;241m=\u001b[39m \u001b[38;5;241m3\u001b[39m\n\u001b[1;32m      2\u001b[0m num_candidates \u001b[38;5;241m=\u001b[39m \u001b[38;5;241m10\u001b[39m\n\u001b[0;32m----> 3\u001b[0m ltsenv \u001b[38;5;241m=\u001b[39m \u001b[43menvironment\u001b[49m\u001b[38;5;241;43m.\u001b[39;49m\u001b[43mEnvironment\u001b[49m\u001b[43m(\u001b[49m\n\u001b[1;32m      4\u001b[0m \u001b[43m            \u001b[49m\u001b[43mLTSUserModel\u001b[49m\u001b[43m(\u001b[49m\u001b[43mslate_size\u001b[49m\u001b[43m)\u001b[49m\u001b[43m,\u001b[49m\n\u001b[1;32m      5\u001b[0m \u001b[43m            \u001b[49m\u001b[43mLTSDocumentSampler\u001b[49m\u001b[43m(\u001b[49m\u001b[43m)\u001b[49m\u001b[43m,\u001b[49m\n\u001b[1;32m      6\u001b[0m \u001b[43m            \u001b[49m\u001b[43mnum_candidates\u001b[49m\u001b[43m,\u001b[49m\n\u001b[1;32m      7\u001b[0m \u001b[43m            \u001b[49m\u001b[43mslate_size\u001b[49m\u001b[43m,\u001b[49m\n\u001b[1;32m      8\u001b[0m \u001b[43m            \u001b[49m\u001b[43mresample_documents\u001b[49m\u001b[38;5;241;43m=\u001b[39;49m\u001b[38;5;28;43;01mTrue\u001b[39;49;00m\u001b[43m)\u001b[49m\n",
      "File \u001b[0;32m~/git/rl_recsys/.venv/lib/python3.9/site-packages/recsim/simulator/environment.py:83\u001b[0m, in \u001b[0;36mAbstractEnvironment.__init__\u001b[0;34m(self, user_model, document_sampler, num_candidates, slate_size, resample_documents)\u001b[0m\n\u001b[1;32m     80\u001b[0m \u001b[39mself\u001b[39m\u001b[39m.\u001b[39m_resample_documents \u001b[39m=\u001b[39m resample_documents\n\u001b[1;32m     82\u001b[0m \u001b[39m# Create a candidate set.\u001b[39;00m\n\u001b[0;32m---> 83\u001b[0m \u001b[39mself\u001b[39;49m\u001b[39m.\u001b[39;49m_do_resample_documents()\n\u001b[1;32m     84\u001b[0m \u001b[39massert\u001b[39;00m (slate_size \u001b[39m<\u001b[39m\u001b[39m=\u001b[39m num_candidates\n\u001b[1;32m     85\u001b[0m        ), \u001b[39m'\u001b[39m\u001b[39mSlate size \u001b[39m\u001b[39m%d\u001b[39;00m\u001b[39m cannot be larger than number of candidates \u001b[39m\u001b[39m%d\u001b[39;00m\u001b[39m'\u001b[39m \u001b[39m%\u001b[39m (\n\u001b[1;32m     86\u001b[0m            slate_size, num_candidates)\n",
      "File \u001b[0;32m~/git/rl_recsys/.venv/lib/python3.9/site-packages/recsim/simulator/environment.py:92\u001b[0m, in \u001b[0;36mAbstractEnvironment._do_resample_documents\u001b[0;34m(self)\u001b[0m\n\u001b[1;32m     90\u001b[0m \u001b[39mself\u001b[39m\u001b[39m.\u001b[39m_candidate_set \u001b[39m=\u001b[39m document\u001b[39m.\u001b[39mCandidateSet()\n\u001b[1;32m     91\u001b[0m \u001b[39mfor\u001b[39;00m _ \u001b[39min\u001b[39;00m \u001b[39mrange\u001b[39m(\u001b[39mself\u001b[39m\u001b[39m.\u001b[39m_num_candidates):\n\u001b[0;32m---> 92\u001b[0m   \u001b[39mself\u001b[39;49m\u001b[39m.\u001b[39;49m_candidate_set\u001b[39m.\u001b[39;49madd_document(\u001b[39mself\u001b[39;49m\u001b[39m.\u001b[39;49m_document_sampler\u001b[39m.\u001b[39;49msample_document())\n",
      "File \u001b[0;32m~/git/rl_recsys/.venv/lib/python3.9/site-packages/recsim/document.py:69\u001b[0m, in \u001b[0;36mCandidateSet.add_document\u001b[0;34m(self, document)\u001b[0m\n\u001b[1;32m     67\u001b[0m \u001b[39mdef\u001b[39;00m \u001b[39madd_document\u001b[39m(\u001b[39mself\u001b[39m, document):\n\u001b[1;32m     68\u001b[0m   \u001b[39m\"\"\"Adds a document to the candidate set.\"\"\"\u001b[39;00m\n\u001b[0;32m---> 69\u001b[0m   \u001b[39mself\u001b[39m\u001b[39m.\u001b[39m_documents[document\u001b[39m.\u001b[39;49mdoc_id()] \u001b[39m=\u001b[39m document\n",
      "\u001b[0;31mTypeError\u001b[0m: 'dict' object is not callable"
     ]
    }
   ],
   "source": [
    "slate_size = 3\n",
    "num_candidates = 10\n",
    "ltsenv = environment.Environment(\n",
    "            LTSUserModel(slate_size),\n",
    "            LTSDocumentSampler(),\n",
    "            num_candidates,\n",
    "            slate_size,\n",
    "            resample_documents=True)"
   ]
  },
  {
   "cell_type": "code",
   "execution_count": null,
   "metadata": {},
   "outputs": [],
   "source": [
    "def clicked_engagement_reward(responses):\n",
    "  reward = 0.0\n",
    "  for response in responses:\n",
    "    if response.clicked:\n",
    "      reward += response.engagement\n",
    "  return reward"
   ]
  },
  {
   "cell_type": "code",
   "execution_count": null,
   "metadata": {},
   "outputs": [],
   "source": [
    "lts_gym_env = recsim_gym.RecSimGymEnv(ltsenv, clicked_engagement_reward)"
   ]
  },
  {
   "cell_type": "code",
   "execution_count": null,
   "metadata": {},
   "outputs": [],
   "source": [
    "observation_0 = lts_gym_env.reset()\n",
    "print('Observation 0')\n",
    "print('Available documents')\n",
    "doc_strings = ['music_id ' + key + \" genre \" + str(value) for key, value\n",
    "               in observation_0['doc'].items()]\n",
    "print('\\n'.join(doc_strings))\n",
    "print('Noisy user state observation')\n",
    "print(observation_0['user'])\n",
    "# Agent recommends the first three documents.\n",
    "recommendation_slate_0 = [0, 1, 2]\n",
    "observation_1, reward, done, _ = lts_gym_env.step(recommendation_slate_0)\n",
    "print('Observation 1')\n",
    "print('Available documents')\n",
    "doc_strings = ['music_id ' + key + \" genre \" + str(value) for key, value\n",
    "               in observation_1['doc'].items()]\n",
    "print('\\n'.join(doc_strings))\n",
    "rsp_strings = [str(response) for response in observation_1['response']]\n",
    "print('User responses to documents in the slate')\n",
    "print('\\n'.join(rsp_strings))\n",
    "print('Noisy user state observation')\n",
    "print(observation_1['user'])"
   ]
  }
 ],
 "metadata": {
  "kernelspec": {
   "display_name": "Python 3.9.7 ('.venv': poetry)",
   "language": "python",
   "name": "python3"
  },
  "language_info": {
   "codemirror_mode": {
    "name": "ipython",
    "version": 3
   },
   "file_extension": ".py",
   "mimetype": "text/x-python",
   "name": "python",
   "nbconvert_exporter": "python",
   "pygments_lexer": "ipython3",
   "version": "3.9.7"
  },
  "orig_nbformat": 4,
  "vscode": {
   "interpreter": {
    "hash": "4b1aae1df98fcdaba42211eb04fb1c10f1061d9efaa8b282c66397dab6b26e66"
   }
  }
 },
 "nbformat": 4,
 "nbformat_minor": 2
}
