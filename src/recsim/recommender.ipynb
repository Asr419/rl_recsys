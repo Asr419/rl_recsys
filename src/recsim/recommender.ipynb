{
 "cells": [
  {
   "cell_type": "code",
   "execution_count": 15,
   "metadata": {},
   "outputs": [
    {
     "name": "stdout",
     "output_type": "stream",
     "text": [
      "\u001b[31mERROR: Could not find a version that satisfies the requirement tf-nightly-2.0-preview (from versions: none)\u001b[0m\n",
      "\u001b[31mERROR: No matching distribution found for tf-nightly-2.0-preview\u001b[0m\n",
      "\u001b[33mWARNING: You are using pip version 21.2.3; however, version 22.2.2 is available.\n",
      "You should consider upgrading via the '/raid/home/aayush/git/fitapp_analysis/fitapp_aayush/bin/python -m pip install --upgrade pip' command.\u001b[0m\n"
     ]
    }
   ],
   "source": [
    "!pip install -q tf-nightly-2.0-preview\n",
    "# Load the TensorBoard notebook extension\n",
    "%load_ext tensorboard"
   ]
  },
  {
   "cell_type": "code",
   "execution_count": 17,
   "metadata": {},
   "outputs": [],
   "source": [
    "import functools\n",
    "from gym import spaces\n",
    "import tensorflow as tf\n",
    "import numpy as np\n",
    "import matplotlib.pyplot as plt\n",
    "from scipy import stats\n",
    "# RecSim imports\n",
    "from recsim import agent\n",
    "from recsim import document\n",
    "from recsim import user\n",
    "from recsim.choice_model import MultinomialLogitChoiceModel\n",
    "from recsim.simulator import environment\n",
    "from recsim.simulator import recsim_gym\n",
    "from recsim.simulator import runner_lib\n"
   ]
  },
  {
   "cell_type": "code",
   "execution_count": 3,
   "metadata": {},
   "outputs": [],
   "source": [
    "from recsim.environments import interest_exploration"
   ]
  },
  {
   "cell_type": "code",
   "execution_count": 4,
   "metadata": {},
   "outputs": [],
   "source": [
    "env_config = {'slate_size': 2,\n",
    "              'seed': 0,\n",
    "              'num_candidates': 15,\n",
    "              'resample_documents': True}\n",
    "ie_environment = interest_exploration.create_environment(env_config)"
   ]
  },
  {
   "cell_type": "code",
   "execution_count": 5,
   "metadata": {},
   "outputs": [],
   "source": [
    "initial_observation = ie_environment.reset()"
   ]
  },
  {
   "cell_type": "code",
   "execution_count": 6,
   "metadata": {},
   "outputs": [
    {
     "name": "stdout",
     "output_type": "stream",
     "text": [
      "User Observable Features\n",
      "[]\n",
      "User Response\n",
      "None\n",
      "Document Observable Features\n",
      "ID: 15 features: {'quality': array(1.22720163), 'cluster_id': 1}\n",
      "ID: 16 features: {'quality': array(1.29258489), 'cluster_id': 1}\n",
      "ID: 17 features: {'quality': array(1.23977078), 'cluster_id': 1}\n",
      "ID: 18 features: {'quality': array(1.46045555), 'cluster_id': 1}\n",
      "ID: 19 features: {'quality': array(2.10233425), 'cluster_id': 0}\n",
      "ID: 20 features: {'quality': array(1.09572905), 'cluster_id': 1}\n",
      "ID: 21 features: {'quality': array(2.37256963), 'cluster_id': 0}\n",
      "ID: 22 features: {'quality': array(1.34928002), 'cluster_id': 1}\n",
      "ID: 23 features: {'quality': array(1.00670188), 'cluster_id': 1}\n",
      "ID: 24 features: {'quality': array(1.20448562), 'cluster_id': 1}\n",
      "ID: 25 features: {'quality': array(2.18351159), 'cluster_id': 0}\n",
      "ID: 26 features: {'quality': array(1.19411585), 'cluster_id': 1}\n",
      "ID: 27 features: {'quality': array(1.03514646), 'cluster_id': 1}\n",
      "ID: 28 features: {'quality': array(2.29592623), 'cluster_id': 0}\n",
      "ID: 29 features: {'quality': array(2.05936556), 'cluster_id': 0}\n"
     ]
    }
   ],
   "source": [
    "print('User Observable Features')\n",
    "print(initial_observation['user'])\n",
    "print('User Response')\n",
    "print(initial_observation['response'])\n",
    "print('Document Observable Features')\n",
    "for doc_id, doc_features in initial_observation['doc'].items():\n",
    "  print('ID:', doc_id, 'features:', doc_features)"
   ]
  },
  {
   "cell_type": "code",
   "execution_count": 7,
   "metadata": {},
   "outputs": [
    {
     "name": "stdout",
     "output_type": "stream",
     "text": [
      "Document observation space\n",
      "15 : Dict(cluster_id: Discrete(2), quality: Box(0.0, inf, (), float32))\n",
      "16 : Dict(cluster_id: Discrete(2), quality: Box(0.0, inf, (), float32))\n",
      "17 : Dict(cluster_id: Discrete(2), quality: Box(0.0, inf, (), float32))\n",
      "18 : Dict(cluster_id: Discrete(2), quality: Box(0.0, inf, (), float32))\n",
      "19 : Dict(cluster_id: Discrete(2), quality: Box(0.0, inf, (), float32))\n",
      "20 : Dict(cluster_id: Discrete(2), quality: Box(0.0, inf, (), float32))\n",
      "21 : Dict(cluster_id: Discrete(2), quality: Box(0.0, inf, (), float32))\n",
      "22 : Dict(cluster_id: Discrete(2), quality: Box(0.0, inf, (), float32))\n",
      "23 : Dict(cluster_id: Discrete(2), quality: Box(0.0, inf, (), float32))\n",
      "24 : Dict(cluster_id: Discrete(2), quality: Box(0.0, inf, (), float32))\n",
      "25 : Dict(cluster_id: Discrete(2), quality: Box(0.0, inf, (), float32))\n",
      "26 : Dict(cluster_id: Discrete(2), quality: Box(0.0, inf, (), float32))\n",
      "27 : Dict(cluster_id: Discrete(2), quality: Box(0.0, inf, (), float32))\n",
      "28 : Dict(cluster_id: Discrete(2), quality: Box(0.0, inf, (), float32))\n",
      "29 : Dict(cluster_id: Discrete(2), quality: Box(0.0, inf, (), float32))\n",
      "Response observation space\n",
      "Tuple(Dict(click: Discrete(2), cluster_id: Discrete(2), quality: Box(0.0, inf, (), float32)), Dict(click: Discrete(2), cluster_id: Discrete(2), quality: Box(0.0, inf, (), float32)))\n",
      "User observation space\n",
      "Box([], [], (0,), float32)\n"
     ]
    }
   ],
   "source": [
    "print('Document observation space')\n",
    "for key, space in ie_environment.observation_space['doc'].spaces.items():\n",
    "  print(key, ':', space)\n",
    "print('Response observation space')\n",
    "print(ie_environment.observation_space['response'])\n",
    "print('User observation space')\n",
    "print(ie_environment.observation_space['user'])\n"
   ]
  },
  {
   "cell_type": "code",
   "execution_count": 8,
   "metadata": {},
   "outputs": [
    {
     "name": "stdout",
     "output_type": "stream",
     "text": [
      "('15', {'quality': array(1.22720163), 'cluster_id': 1})\n",
      "('16', {'quality': array(1.29258489), 'cluster_id': 1})\n"
     ]
    }
   ],
   "source": [
    "slate = [0, 1]\n",
    "for slate_doc in slate:\n",
    "  print(list(initial_observation['doc'].items())[slate_doc])"
   ]
  },
  {
   "cell_type": "code",
   "execution_count": 9,
   "metadata": {},
   "outputs": [
    {
     "data": {
      "text/plain": [
       "MultiDiscrete([15 15])"
      ]
     },
     "execution_count": 9,
     "metadata": {},
     "output_type": "execute_result"
    }
   ],
   "source": [
    "ie_environment.action_space"
   ]
  },
  {
   "cell_type": "code",
   "execution_count": 10,
   "metadata": {},
   "outputs": [],
   "source": [
    "observation, reward, done, _ = ie_environment.step(slate)"
   ]
  },
  {
   "cell_type": "code",
   "execution_count": 11,
   "metadata": {},
   "outputs": [],
   "source": [
    "from recsim.agent import AbstractEpisodicRecommenderAgent"
   ]
  },
  {
   "cell_type": "code",
   "execution_count": 12,
   "metadata": {},
   "outputs": [],
   "source": [
    "class StaticAgent(AbstractEpisodicRecommenderAgent):\n",
    "  def __init__(self, observation_space, action_space):\n",
    "    # Check if document corpus is large enough.\n",
    "    if len(observation_space['doc'].spaces) < len(action_space.nvec):\n",
    "      raise RuntimeError('Slate size larger than size of the corpus.')\n",
    "    super(StaticAgent, self).__init__(action_space)\n",
    "\n",
    "  def step(self, reward, observation):\n",
    "    print(observation)\n",
    "    return list(range(self._slate_size))"
   ]
  },
  {
   "cell_type": "code",
   "execution_count": 19,
   "metadata": {},
   "outputs": [
    {
     "name": "stdout",
     "output_type": "stream",
     "text": [
      "INFO:tensorflow:max_eval_episodes = 1\n"
     ]
    },
    {
     "name": "stderr",
     "output_type": "stream",
     "text": [
      "INFO:tensorflow:max_eval_episodes = 1\n"
     ]
    },
    {
     "name": "stdout",
     "output_type": "stream",
     "text": [
      "INFO:tensorflow:max_steps_per_episode = 5\n"
     ]
    },
    {
     "name": "stderr",
     "output_type": "stream",
     "text": [
      "INFO:tensorflow:max_steps_per_episode = 5\n",
      "2022-10-04 13:01:05.571567: I tensorflow/core/platform/cpu_feature_guard.cc:193] This TensorFlow binary is optimized with oneAPI Deep Neural Network Library (oneDNN) to use the following CPU instructions in performance-critical operations:  AVX2 FMA\n",
      "To enable them in other operations, rebuild TensorFlow with the appropriate compiler flags.\n",
      "2022-10-04 13:01:06.445684: W tensorflow/stream_executor/platform/default/dso_loader.cc:64] Could not load dynamic library 'libcudart.so.11.0'; dlerror: libcudart.so.11.0: cannot open shared object file: No such file or directory; LD_LIBRARY_PATH: /raid/home/aayush/git/fitapp_analysis/fitapp_aayush/lib/python3.9/site-packages/cv2/../../lib64:\n",
      "2022-10-04 13:01:06.445790: W tensorflow/stream_executor/platform/default/dso_loader.cc:64] Could not load dynamic library 'libcublas.so.11'; dlerror: libcublas.so.11: cannot open shared object file: No such file or directory; LD_LIBRARY_PATH: /raid/home/aayush/git/fitapp_analysis/fitapp_aayush/lib/python3.9/site-packages/cv2/../../lib64:\n",
      "2022-10-04 13:01:06.445873: W tensorflow/stream_executor/platform/default/dso_loader.cc:64] Could not load dynamic library 'libcublasLt.so.11'; dlerror: libcublasLt.so.11: cannot open shared object file: No such file or directory; LD_LIBRARY_PATH: /raid/home/aayush/git/fitapp_analysis/fitapp_aayush/lib/python3.9/site-packages/cv2/../../lib64:\n",
      "2022-10-04 13:01:06.445966: W tensorflow/stream_executor/platform/default/dso_loader.cc:64] Could not load dynamic library 'libcufft.so.10'; dlerror: libcufft.so.10: cannot open shared object file: No such file or directory; LD_LIBRARY_PATH: /raid/home/aayush/git/fitapp_analysis/fitapp_aayush/lib/python3.9/site-packages/cv2/../../lib64:\n",
      "2022-10-04 13:01:06.446055: W tensorflow/stream_executor/platform/default/dso_loader.cc:64] Could not load dynamic library 'libcurand.so.10'; dlerror: libcurand.so.10: cannot open shared object file: No such file or directory; LD_LIBRARY_PATH: /raid/home/aayush/git/fitapp_analysis/fitapp_aayush/lib/python3.9/site-packages/cv2/../../lib64:\n",
      "2022-10-04 13:01:06.446142: W tensorflow/stream_executor/platform/default/dso_loader.cc:64] Could not load dynamic library 'libcusolver.so.11'; dlerror: libcusolver.so.11: cannot open shared object file: No such file or directory; LD_LIBRARY_PATH: /raid/home/aayush/git/fitapp_analysis/fitapp_aayush/lib/python3.9/site-packages/cv2/../../lib64:\n",
      "2022-10-04 13:01:06.446234: W tensorflow/stream_executor/platform/default/dso_loader.cc:64] Could not load dynamic library 'libcusparse.so.11'; dlerror: libcusparse.so.11: cannot open shared object file: No such file or directory; LD_LIBRARY_PATH: /raid/home/aayush/git/fitapp_analysis/fitapp_aayush/lib/python3.9/site-packages/cv2/../../lib64:\n",
      "2022-10-04 13:01:06.446327: W tensorflow/stream_executor/platform/default/dso_loader.cc:64] Could not load dynamic library 'libcudnn.so.8'; dlerror: libcudnn.so.8: cannot open shared object file: No such file or directory; LD_LIBRARY_PATH: /raid/home/aayush/git/fitapp_analysis/fitapp_aayush/lib/python3.9/site-packages/cv2/../../lib64:\n",
      "2022-10-04 13:01:06.446344: W tensorflow/core/common_runtime/gpu/gpu_device.cc:1850] Cannot dlopen some GPU libraries. Please make sure the missing libraries mentioned above are installed properly if you would like to use GPU. Follow the guide at https://www.tensorflow.org/install/gpu for how to download and setup the required libraries for your platform.\n",
      "Skipping registering GPU devices...\n",
      "2022-10-04 13:01:06.456847: I tensorflow/compiler/mlir/mlir_graph_optimization_pass.cc:354] MLIR V1 optimization pass is not enabled\n"
     ]
    }
   ],
   "source": [
    "def create_agent(sess, environment, eval_mode, summary_writer=None):\n",
    "  return StaticAgent(environment.observation_space, environment.action_space)\n",
    "tf.compat.v1.disable_eager_execution()\n",
    "\n",
    "tmp_base_dir = '/tmp/recsim/'\n",
    "\n",
    "runner = runner_lib.EvalRunner(\n",
    "  base_dir=tmp_base_dir,\n",
    "  create_agent_fn=create_agent,\n",
    "  env=ie_environment,\n",
    "  max_eval_episodes=1,\n",
    "  max_steps_per_episode=5,\n",
    "  test_mode=True)"
   ]
  },
  {
   "cell_type": "code",
   "execution_count": 20,
   "metadata": {},
   "outputs": [],
   "source": [
    "from recsim.agents.layers.cluster_click_statistics import ClusterClickStatsLayer"
   ]
  },
  {
   "cell_type": "code",
   "execution_count": 21,
   "metadata": {},
   "outputs": [
    {
     "name": "stdout",
     "output_type": "stream",
     "text": [
      "{'user': array([], dtype=float64), 'doc': OrderedDict([('30', {'quality': array(2.48922445), 'cluster_id': 0}), ('31', {'quality': array(2.12592661), 'cluster_id': 0}), ('32', {'quality': array(1.27448139), 'cluster_id': 1}), ('33', {'quality': array(1.21799112), 'cluster_id': 1}), ('34', {'quality': array(1.17770375), 'cluster_id': 1}), ('35', {'quality': array(2.07948915), 'cluster_id': 0}), ('36', {'quality': array(1.14167652), 'cluster_id': 1}), ('37', {'quality': array(1.20529165), 'cluster_id': 1}), ('38', {'quality': array(1.2424684), 'cluster_id': 1}), ('39', {'quality': array(1.87279668), 'cluster_id': 0}), ('40', {'quality': array(1.19644888), 'cluster_id': 1}), ('41', {'quality': array(1.28254021), 'cluster_id': 1}), ('42', {'quality': array(2.01558539), 'cluster_id': 0}), ('43', {'quality': array(2.46400483), 'cluster_id': 0}), ('44', {'quality': array(1.33980633), 'cluster_id': 1})]), 'response': ({'click': 0, 'quality': array(1.22720163), 'cluster_id': 1}, {'click': 0, 'quality': array(1.29258489), 'cluster_id': 1})}\n"
     ]
    },
    {
     "data": {
      "text/plain": [
       "[0, 1]"
      ]
     },
     "execution_count": 21,
     "metadata": {},
     "output_type": "execute_result"
    }
   ],
   "source": [
    "static_agent = StaticAgent(ie_environment.observation_space,\n",
    "                           ie_environment.action_space)\n",
    "static_agent.step(reward, observation)"
   ]
  },
  {
   "cell_type": "code",
   "execution_count": 22,
   "metadata": {},
   "outputs": [
    {
     "name": "stdout",
     "output_type": "stream",
     "text": [
      "{'user': {'raw_observation': array([], dtype=float64), 'sufficient_statistics': {'impression_count': array([0, 2]), 'click_count': array([0, 0])}}, 'doc': OrderedDict([('30', {'quality': array(2.48922445), 'cluster_id': 0}), ('31', {'quality': array(2.12592661), 'cluster_id': 0}), ('32', {'quality': array(1.27448139), 'cluster_id': 1}), ('33', {'quality': array(1.21799112), 'cluster_id': 1}), ('34', {'quality': array(1.17770375), 'cluster_id': 1}), ('35', {'quality': array(2.07948915), 'cluster_id': 0}), ('36', {'quality': array(1.14167652), 'cluster_id': 1}), ('37', {'quality': array(1.20529165), 'cluster_id': 1}), ('38', {'quality': array(1.2424684), 'cluster_id': 1}), ('39', {'quality': array(1.87279668), 'cluster_id': 0}), ('40', {'quality': array(1.19644888), 'cluster_id': 1}), ('41', {'quality': array(1.28254021), 'cluster_id': 1}), ('42', {'quality': array(2.01558539), 'cluster_id': 0}), ('43', {'quality': array(2.46400483), 'cluster_id': 0}), ('44', {'quality': array(1.33980633), 'cluster_id': 1})]), 'response': ({'click': 0, 'quality': array(1.22720163), 'cluster_id': 1}, {'click': 0, 'quality': array(1.29258489), 'cluster_id': 1})}\n"
     ]
    },
    {
     "data": {
      "text/plain": [
       "[0, 1]"
      ]
     },
     "execution_count": 22,
     "metadata": {},
     "output_type": "execute_result"
    }
   ],
   "source": [
    "cluster_static_agent = ClusterClickStatsLayer(StaticAgent,\n",
    "                                              ie_environment.observation_space,\n",
    "                                              ie_environment.action_space)\n",
    "cluster_static_agent.step(reward, observation)"
   ]
  },
  {
   "cell_type": "code",
   "execution_count": 23,
   "metadata": {},
   "outputs": [],
   "source": [
    "from recsim.agents.layers.abstract_click_bandit import AbstractClickBanditLayer"
   ]
  },
  {
   "cell_type": "code",
   "execution_count": 24,
   "metadata": {},
   "outputs": [],
   "source": [
    "class GreedyClusterAgent(agent.AbstractEpisodicRecommenderAgent):\n",
    "  \"\"\"Simple agent sorting all documents of a topic according to quality.\"\"\"\n",
    "\n",
    "  def __init__(self, observation_space, action_space, cluster_id, **kwargs):\n",
    "    del observation_space\n",
    "    super(GreedyClusterAgent, self).__init__(action_space)\n",
    "    self._cluster_id = cluster_id\n",
    "\n",
    "  def step(self, reward, observation):\n",
    "    del reward\n",
    "    my_docs = []\n",
    "    my_doc_quality = []\n",
    "    for i, doc in enumerate(observation['doc'].values()):\n",
    "      if doc['cluster_id'] == self._cluster_id:\n",
    "        my_docs.append(i)\n",
    "        my_doc_quality.append(doc['quality'])\n",
    "    if not bool(my_docs):\n",
    "      return []\n",
    "    sorted_indices = np.argsort(my_doc_quality)[::-1]\n",
    "    return list(np.array(my_docs)[sorted_indices])"
   ]
  },
  {
   "cell_type": "code",
   "execution_count": 26,
   "metadata": {},
   "outputs": [],
   "source": [
    "num_topics = list(ie_environment.observation_space.spaces['doc']\n",
    "                    .spaces.values())[0].spaces['cluster_id'].n\n",
    "base_agent_ctors = [\n",
    "      functools.partial(GreedyClusterAgent, cluster_id=i)\n",
    "      for i in range(num_topics)\n",
    "  ]"
   ]
  },
  {
   "cell_type": "code",
   "execution_count": 27,
   "metadata": {},
   "outputs": [],
   "source": [
    "bandit_ctor = functools.partial(AbstractClickBanditLayer,\n",
    "                                arm_base_agent_ctors=base_agent_ctors)\n",
    "cluster_bandit = ClusterClickStatsLayer(bandit_ctor,\n",
    "                                        ie_environment.observation_space,\n",
    "                                        ie_environment.action_space)"
   ]
  },
  {
   "cell_type": "code",
   "execution_count": 28,
   "metadata": {},
   "outputs": [
    {
     "name": "stdout",
     "output_type": "stream",
     "text": [
      "Cluster bandit slate 0:\n",
      "{'quality': array(1.46868751), 'cluster_id': 1}\n",
      "{'quality': array(1.42269182), 'cluster_id': 1}\n"
     ]
    }
   ],
   "source": [
    "observation0 = ie_environment.reset()\n",
    "slate = cluster_bandit.begin_episode(observation0)\n",
    "print(\"Cluster bandit slate 0:\")\n",
    "doc_list = list(observation0['doc'].values())\n",
    "for doc_position in slate:\n",
    "  print(doc_list[doc_position])"
   ]
  }
 ],
 "metadata": {
  "kernelspec": {
   "display_name": "Python 3.9.7 ('.venv': poetry)",
   "language": "python",
   "name": "python3"
  },
  "language_info": {
   "codemirror_mode": {
    "name": "ipython",
    "version": 3
   },
   "file_extension": ".py",
   "mimetype": "text/x-python",
   "name": "python",
   "nbconvert_exporter": "python",
   "pygments_lexer": "ipython3",
   "version": "3.9.7"
  },
  "orig_nbformat": 4,
  "vscode": {
   "interpreter": {
    "hash": "4b1aae1df98fcdaba42211eb04fb1c10f1061d9efaa8b282c66397dab6b26e66"
   }
  }
 },
 "nbformat": 4,
 "nbformat_minor": 2
}
