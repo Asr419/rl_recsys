{
 "cells": [
  {
   "cell_type": "code",
   "execution_count": 2,
   "metadata": {},
   "outputs": [
    {
     "name": "stdout",
     "output_type": "stream",
     "text": [
      "Requirement already satisfied: recsim in /raid/home/aayush/git/fitapp_analysis/fitapp_aayush/lib/python3.9/site-packages (0.2.4)\n",
      "Requirement already satisfied: dopamine-rl>=2.0.5 in /raid/home/aayush/git/fitapp_analysis/fitapp_aayush/lib/python3.9/site-packages (from recsim) (4.0.6)\n",
      "Requirement already satisfied: scipy in /raid/home/aayush/git/fitapp_analysis/fitapp_aayush/lib/python3.9/site-packages (from recsim) (1.8.1)\n",
      "Requirement already satisfied: absl-py in /raid/home/aayush/git/fitapp_analysis/fitapp_aayush/lib/python3.9/site-packages (from recsim) (1.0.0)\n",
      "Requirement already satisfied: gym in /raid/home/aayush/git/fitapp_analysis/fitapp_aayush/lib/python3.9/site-packages (from recsim) (0.24.0)\n",
      "Requirement already satisfied: tensorflow in /raid/home/aayush/git/fitapp_analysis/fitapp_aayush/lib/python3.9/site-packages (from recsim) (2.9.1)\n",
      "Requirement already satisfied: gin-config in /raid/home/aayush/git/fitapp_analysis/fitapp_aayush/lib/python3.9/site-packages (from recsim) (0.5.0)\n",
      "Requirement already satisfied: numpy in /raid/home/aayush/git/fitapp_analysis/fitapp_aayush/lib/python3.9/site-packages (from recsim) (1.22.4)\n",
      "Requirement already satisfied: jaxlib>=0.1.51 in /raid/home/aayush/git/fitapp_analysis/fitapp_aayush/lib/python3.9/site-packages (from dopamine-rl>=2.0.5->recsim) (0.3.20)\n",
      "Requirement already satisfied: jax>=0.1.72 in /raid/home/aayush/git/fitapp_analysis/fitapp_aayush/lib/python3.9/site-packages (from dopamine-rl>=2.0.5->recsim) (0.3.21)\n",
      "Requirement already satisfied: flax>=0.2.0 in /raid/home/aayush/git/fitapp_analysis/fitapp_aayush/lib/python3.9/site-packages (from dopamine-rl>=2.0.5->recsim) (0.6.1)\n",
      "Requirement already satisfied: tf-slim>=1.0 in /raid/home/aayush/git/fitapp_analysis/fitapp_aayush/lib/python3.9/site-packages (from dopamine-rl>=2.0.5->recsim) (1.1.0)\n",
      "Requirement already satisfied: opencv-python>=3.4.8.29 in /raid/home/aayush/git/fitapp_analysis/fitapp_aayush/lib/python3.9/site-packages (from dopamine-rl>=2.0.5->recsim) (4.6.0.66)\n",
      "Requirement already satisfied: pygame>=1.9.2 in /raid/home/aayush/git/fitapp_analysis/fitapp_aayush/lib/python3.9/site-packages (from dopamine-rl>=2.0.5->recsim) (2.1.2)\n",
      "Requirement already satisfied: Pillow>=7.0.0 in /raid/home/aayush/git/fitapp_analysis/fitapp_aayush/lib/python3.9/site-packages (from dopamine-rl>=2.0.5->recsim) (9.1.1)\n",
      "Requirement already satisfied: pandas>=0.24.2 in /raid/home/aayush/git/fitapp_analysis/fitapp_aayush/lib/python3.9/site-packages (from dopamine-rl>=2.0.5->recsim) (1.4.2)\n",
      "Requirement already satisfied: tensorflow-probability>=0.13.0 in /raid/home/aayush/git/fitapp_analysis/fitapp_aayush/lib/python3.9/site-packages (from dopamine-rl>=2.0.5->recsim) (0.18.0)\n",
      "Requirement already satisfied: six in /raid/home/aayush/git/fitapp_analysis/fitapp_aayush/lib/python3.9/site-packages (from absl-py->recsim) (1.16.0)\n",
      "Requirement already satisfied: matplotlib in /raid/home/aayush/git/fitapp_analysis/fitapp_aayush/lib/python3.9/site-packages (from flax>=0.2.0->dopamine-rl>=2.0.5->recsim) (3.5.2)\n",
      "Requirement already satisfied: PyYAML>=5.4.1 in /raid/home/aayush/git/fitapp_analysis/fitapp_aayush/lib/python3.9/site-packages (from flax>=0.2.0->dopamine-rl>=2.0.5->recsim) (6.0)\n",
      "Requirement already satisfied: msgpack in /raid/home/aayush/git/fitapp_analysis/fitapp_aayush/lib/python3.9/site-packages (from flax>=0.2.0->dopamine-rl>=2.0.5->recsim) (1.0.4)\n",
      "Requirement already satisfied: rich>=11.1 in /raid/home/aayush/git/fitapp_analysis/fitapp_aayush/lib/python3.9/site-packages (from flax>=0.2.0->dopamine-rl>=2.0.5->recsim) (12.6.0)\n",
      "Requirement already satisfied: optax in /raid/home/aayush/git/fitapp_analysis/fitapp_aayush/lib/python3.9/site-packages (from flax>=0.2.0->dopamine-rl>=2.0.5->recsim) (0.1.3)\n",
      "Requirement already satisfied: typing-extensions>=4.1.1 in /raid/home/aayush/git/fitapp_analysis/fitapp_aayush/lib/python3.9/site-packages (from flax>=0.2.0->dopamine-rl>=2.0.5->recsim) (4.2.0)\n",
      "Requirement already satisfied: cloudpickle>=1.2.0 in /raid/home/aayush/git/fitapp_analysis/fitapp_aayush/lib/python3.9/site-packages (from gym->recsim) (2.1.0)\n",
      "Requirement already satisfied: importlib-metadata>=4.8.0 in /raid/home/aayush/git/fitapp_analysis/fitapp_aayush/lib/python3.9/site-packages (from gym->recsim) (4.11.4)\n",
      "Requirement already satisfied: gym-notices>=0.0.4 in /raid/home/aayush/git/fitapp_analysis/fitapp_aayush/lib/python3.9/site-packages (from gym->recsim) (0.0.6)\n",
      "Requirement already satisfied: zipp>=0.5 in /raid/home/aayush/git/fitapp_analysis/fitapp_aayush/lib/python3.9/site-packages (from importlib-metadata>=4.8.0->gym->recsim) (3.8.0)\n",
      "Requirement already satisfied: opt-einsum in /raid/home/aayush/git/fitapp_analysis/fitapp_aayush/lib/python3.9/site-packages (from jax>=0.1.72->dopamine-rl>=2.0.5->recsim) (3.3.0)\n",
      "Requirement already satisfied: etils[epath] in /raid/home/aayush/git/fitapp_analysis/fitapp_aayush/lib/python3.9/site-packages (from jax>=0.1.72->dopamine-rl>=2.0.5->recsim) (0.8.0)\n",
      "Requirement already satisfied: pytz>=2020.1 in /raid/home/aayush/git/fitapp_analysis/fitapp_aayush/lib/python3.9/site-packages (from pandas>=0.24.2->dopamine-rl>=2.0.5->recsim) (2022.1)\n",
      "Requirement already satisfied: python-dateutil>=2.8.1 in /raid/home/aayush/git/fitapp_analysis/fitapp_aayush/lib/python3.9/site-packages (from pandas>=0.24.2->dopamine-rl>=2.0.5->recsim) (2.8.2)\n",
      "Requirement already satisfied: pygments<3.0.0,>=2.6.0 in /raid/home/aayush/git/fitapp_analysis/fitapp_aayush/lib/python3.9/site-packages (from rich>=11.1->flax>=0.2.0->dopamine-rl>=2.0.5->recsim) (2.12.0)\n",
      "Requirement already satisfied: commonmark<0.10.0,>=0.9.0 in /raid/home/aayush/git/fitapp_analysis/fitapp_aayush/lib/python3.9/site-packages (from rich>=11.1->flax>=0.2.0->dopamine-rl>=2.0.5->recsim) (0.9.1)\n",
      "Requirement already satisfied: gast<=0.4.0,>=0.2.1 in /raid/home/aayush/git/fitapp_analysis/fitapp_aayush/lib/python3.9/site-packages (from tensorflow->recsim) (0.4.0)\n",
      "Requirement already satisfied: packaging in /raid/home/aayush/git/fitapp_analysis/fitapp_aayush/lib/python3.9/site-packages (from tensorflow->recsim) (21.3)\n",
      "Requirement already satisfied: protobuf<3.20,>=3.9.2 in /raid/home/aayush/git/fitapp_analysis/fitapp_aayush/lib/python3.9/site-packages (from tensorflow->recsim) (3.19.4)\n",
      "Requirement already satisfied: tensorboard<2.10,>=2.9 in /raid/home/aayush/git/fitapp_analysis/fitapp_aayush/lib/python3.9/site-packages (from tensorflow->recsim) (2.9.0)\n",
      "Requirement already satisfied: google-pasta>=0.1.1 in /raid/home/aayush/git/fitapp_analysis/fitapp_aayush/lib/python3.9/site-packages (from tensorflow->recsim) (0.2.0)\n",
      "Requirement already satisfied: tensorflow-estimator<2.10.0,>=2.9.0rc0 in /raid/home/aayush/git/fitapp_analysis/fitapp_aayush/lib/python3.9/site-packages (from tensorflow->recsim) (2.9.0)\n",
      "Requirement already satisfied: tensorflow-io-gcs-filesystem>=0.23.1 in /raid/home/aayush/git/fitapp_analysis/fitapp_aayush/lib/python3.9/site-packages (from tensorflow->recsim) (0.26.0)\n",
      "Requirement already satisfied: grpcio<2.0,>=1.24.3 in /raid/home/aayush/git/fitapp_analysis/fitapp_aayush/lib/python3.9/site-packages (from tensorflow->recsim) (1.46.3)\n",
      "Requirement already satisfied: flatbuffers<2,>=1.12 in /raid/home/aayush/git/fitapp_analysis/fitapp_aayush/lib/python3.9/site-packages (from tensorflow->recsim) (1.12)\n",
      "Requirement already satisfied: wrapt>=1.11.0 in /raid/home/aayush/git/fitapp_analysis/fitapp_aayush/lib/python3.9/site-packages (from tensorflow->recsim) (1.14.1)\n",
      "Requirement already satisfied: libclang>=13.0.0 in /raid/home/aayush/git/fitapp_analysis/fitapp_aayush/lib/python3.9/site-packages (from tensorflow->recsim) (14.0.1)\n",
      "Requirement already satisfied: h5py>=2.9.0 in /raid/home/aayush/git/fitapp_analysis/fitapp_aayush/lib/python3.9/site-packages (from tensorflow->recsim) (3.7.0)\n",
      "Requirement already satisfied: setuptools in /raid/home/aayush/git/fitapp_analysis/fitapp_aayush/lib/python3.9/site-packages (from tensorflow->recsim) (57.4.0)\n",
      "Requirement already satisfied: astunparse>=1.6.0 in /raid/home/aayush/git/fitapp_analysis/fitapp_aayush/lib/python3.9/site-packages (from tensorflow->recsim) (1.6.3)\n",
      "Requirement already satisfied: keras-preprocessing>=1.1.1 in /raid/home/aayush/git/fitapp_analysis/fitapp_aayush/lib/python3.9/site-packages (from tensorflow->recsim) (1.1.2)\n",
      "Requirement already satisfied: keras<2.10.0,>=2.9.0rc0 in /raid/home/aayush/git/fitapp_analysis/fitapp_aayush/lib/python3.9/site-packages (from tensorflow->recsim) (2.9.0)\n",
      "Requirement already satisfied: termcolor>=1.1.0 in /raid/home/aayush/git/fitapp_analysis/fitapp_aayush/lib/python3.9/site-packages (from tensorflow->recsim) (1.1.0)\n",
      "Requirement already satisfied: wheel<1.0,>=0.23.0 in /raid/home/aayush/git/fitapp_analysis/fitapp_aayush/lib/python3.9/site-packages (from astunparse>=1.6.0->tensorflow->recsim) (0.37.1)\n",
      "Requirement already satisfied: werkzeug>=1.0.1 in /raid/home/aayush/git/fitapp_analysis/fitapp_aayush/lib/python3.9/site-packages (from tensorboard<2.10,>=2.9->tensorflow->recsim) (2.1.2)\n",
      "Requirement already satisfied: google-auth<3,>=1.6.3 in /raid/home/aayush/git/fitapp_analysis/fitapp_aayush/lib/python3.9/site-packages (from tensorboard<2.10,>=2.9->tensorflow->recsim) (2.6.6)\n",
      "Requirement already satisfied: requests<3,>=2.21.0 in /raid/home/aayush/git/fitapp_analysis/fitapp_aayush/lib/python3.9/site-packages (from tensorboard<2.10,>=2.9->tensorflow->recsim) (2.27.1)\n",
      "Requirement already satisfied: markdown>=2.6.8 in /raid/home/aayush/git/fitapp_analysis/fitapp_aayush/lib/python3.9/site-packages (from tensorboard<2.10,>=2.9->tensorflow->recsim) (3.3.7)\n",
      "Requirement already satisfied: google-auth-oauthlib<0.5,>=0.4.1 in /raid/home/aayush/git/fitapp_analysis/fitapp_aayush/lib/python3.9/site-packages (from tensorboard<2.10,>=2.9->tensorflow->recsim) (0.4.6)\n",
      "Requirement already satisfied: tensorboard-data-server<0.7.0,>=0.6.0 in /raid/home/aayush/git/fitapp_analysis/fitapp_aayush/lib/python3.9/site-packages (from tensorboard<2.10,>=2.9->tensorflow->recsim) (0.6.1)\n",
      "Requirement already satisfied: tensorboard-plugin-wit>=1.6.0 in /raid/home/aayush/git/fitapp_analysis/fitapp_aayush/lib/python3.9/site-packages (from tensorboard<2.10,>=2.9->tensorflow->recsim) (1.8.1)\n",
      "Requirement already satisfied: rsa<5,>=3.1.4 in /raid/home/aayush/git/fitapp_analysis/fitapp_aayush/lib/python3.9/site-packages (from google-auth<3,>=1.6.3->tensorboard<2.10,>=2.9->tensorflow->recsim) (4.8)\n",
      "Requirement already satisfied: pyasn1-modules>=0.2.1 in /raid/home/aayush/git/fitapp_analysis/fitapp_aayush/lib/python3.9/site-packages (from google-auth<3,>=1.6.3->tensorboard<2.10,>=2.9->tensorflow->recsim) (0.2.8)\n",
      "Requirement already satisfied: cachetools<6.0,>=2.0.0 in /raid/home/aayush/git/fitapp_analysis/fitapp_aayush/lib/python3.9/site-packages (from google-auth<3,>=1.6.3->tensorboard<2.10,>=2.9->tensorflow->recsim) (5.2.0)\n",
      "Requirement already satisfied: requests-oauthlib>=0.7.0 in /raid/home/aayush/git/fitapp_analysis/fitapp_aayush/lib/python3.9/site-packages (from google-auth-oauthlib<0.5,>=0.4.1->tensorboard<2.10,>=2.9->tensorflow->recsim) (1.3.1)\n",
      "Requirement already satisfied: pyasn1<0.5.0,>=0.4.6 in /raid/home/aayush/git/fitapp_analysis/fitapp_aayush/lib/python3.9/site-packages (from pyasn1-modules>=0.2.1->google-auth<3,>=1.6.3->tensorboard<2.10,>=2.9->tensorflow->recsim) (0.4.8)\n",
      "Requirement already satisfied: certifi>=2017.4.17 in /raid/home/aayush/git/fitapp_analysis/fitapp_aayush/lib/python3.9/site-packages (from requests<3,>=2.21.0->tensorboard<2.10,>=2.9->tensorflow->recsim) (2022.5.18.1)\n",
      "Requirement already satisfied: idna<4,>=2.5 in /raid/home/aayush/git/fitapp_analysis/fitapp_aayush/lib/python3.9/site-packages (from requests<3,>=2.21.0->tensorboard<2.10,>=2.9->tensorflow->recsim) (3.3)\n",
      "Requirement already satisfied: charset-normalizer~=2.0.0 in /raid/home/aayush/git/fitapp_analysis/fitapp_aayush/lib/python3.9/site-packages (from requests<3,>=2.21.0->tensorboard<2.10,>=2.9->tensorflow->recsim) (2.0.12)\n",
      "Requirement already satisfied: urllib3<1.27,>=1.21.1 in /raid/home/aayush/git/fitapp_analysis/fitapp_aayush/lib/python3.9/site-packages (from requests<3,>=2.21.0->tensorboard<2.10,>=2.9->tensorflow->recsim) (1.26.9)\n",
      "Requirement already satisfied: oauthlib>=3.0.0 in /raid/home/aayush/git/fitapp_analysis/fitapp_aayush/lib/python3.9/site-packages (from requests-oauthlib>=0.7.0->google-auth-oauthlib<0.5,>=0.4.1->tensorboard<2.10,>=2.9->tensorflow->recsim) (3.2.0)\n",
      "Requirement already satisfied: decorator in /raid/home/aayush/git/fitapp_analysis/fitapp_aayush/lib/python3.9/site-packages (from tensorflow-probability>=0.13.0->dopamine-rl>=2.0.5->recsim) (5.1.1)\n",
      "Requirement already satisfied: dm-tree in /raid/home/aayush/git/fitapp_analysis/fitapp_aayush/lib/python3.9/site-packages (from tensorflow-probability>=0.13.0->dopamine-rl>=2.0.5->recsim) (0.1.7)\n",
      "Requirement already satisfied: importlib_resources in /raid/home/aayush/git/fitapp_analysis/fitapp_aayush/lib/python3.9/site-packages (from etils[epath]->jax>=0.1.72->dopamine-rl>=2.0.5->recsim) (5.9.0)\n",
      "Requirement already satisfied: fonttools>=4.22.0 in /raid/home/aayush/git/fitapp_analysis/fitapp_aayush/lib/python3.9/site-packages (from matplotlib->flax>=0.2.0->dopamine-rl>=2.0.5->recsim) (4.33.3)\n",
      "Requirement already satisfied: pyparsing>=2.2.1 in /raid/home/aayush/git/fitapp_analysis/fitapp_aayush/lib/python3.9/site-packages (from matplotlib->flax>=0.2.0->dopamine-rl>=2.0.5->recsim) (3.0.9)\n",
      "Requirement already satisfied: kiwisolver>=1.0.1 in /raid/home/aayush/git/fitapp_analysis/fitapp_aayush/lib/python3.9/site-packages (from matplotlib->flax>=0.2.0->dopamine-rl>=2.0.5->recsim) (1.4.3)\n",
      "Requirement already satisfied: cycler>=0.10 in /raid/home/aayush/git/fitapp_analysis/fitapp_aayush/lib/python3.9/site-packages (from matplotlib->flax>=0.2.0->dopamine-rl>=2.0.5->recsim) (0.11.0)\n",
      "Requirement already satisfied: chex>=0.0.4 in /raid/home/aayush/git/fitapp_analysis/fitapp_aayush/lib/python3.9/site-packages (from optax->flax>=0.2.0->dopamine-rl>=2.0.5->recsim) (0.1.5)\n",
      "Requirement already satisfied: toolz>=0.9.0 in /raid/home/aayush/git/fitapp_analysis/fitapp_aayush/lib/python3.9/site-packages (from chex>=0.0.4->optax->flax>=0.2.0->dopamine-rl>=2.0.5->recsim) (0.12.0)\n",
      "\u001b[33mWARNING: You are using pip version 21.2.3; however, version 22.3 is available.\n",
      "You should consider upgrading via the '/raid/home/aayush/git/fitapp_analysis/fitapp_aayush/bin/python -m pip install --upgrade pip' command.\u001b[0m\n"
     ]
    }
   ],
   "source": [
    "!pip install --upgrade --no-cache-dir recsim"
   ]
  },
  {
   "cell_type": "code",
   "execution_count": 3,
   "metadata": {},
   "outputs": [],
   "source": [
    "import numpy as np\n",
    "from gym import spaces\n",
    "import matplotlib.pyplot as plt\n",
    "from scipy import stats\n",
    "import random"
   ]
  },
  {
   "cell_type": "code",
   "execution_count": 4,
   "metadata": {},
   "outputs": [
    {
     "name": "stderr",
     "output_type": "stream",
     "text": [
      "2022-10-24 18:34:18.720683: W tensorflow/stream_executor/platform/default/dso_loader.cc:64] Could not load dynamic library 'libcudart.so.11.0'; dlerror: libcudart.so.11.0: cannot open shared object file: No such file or directory; LD_LIBRARY_PATH: /raid/home/aayush/git/fitapp_analysis/fitapp_aayush/lib/python3.9/site-packages/cv2/../../lib64:\n",
      "2022-10-24 18:34:18.720717: I tensorflow/stream_executor/cuda/cudart_stub.cc:29] Ignore above cudart dlerror if you do not have a GPU set up on your machine.\n",
      "/home/aayush/git/fitapp_analysis/fitapp_aayush/lib/python3.9/site-packages/flatbuffers/compat.py:19: DeprecationWarning: the imp module is deprecated in favour of importlib; see the module's documentation for alternative uses\n",
      "  import imp\n",
      "/home/aayush/git/fitapp_analysis/fitapp_aayush/lib/python3.9/site-packages/keras/utils/image_utils.py:36: DeprecationWarning: NEAREST is deprecated and will be removed in Pillow 10 (2023-07-01). Use Resampling.NEAREST or Dither.NONE instead.\n",
      "  'nearest': pil_image.NEAREST,\n",
      "/home/aayush/git/fitapp_analysis/fitapp_aayush/lib/python3.9/site-packages/keras/utils/image_utils.py:37: DeprecationWarning: BILINEAR is deprecated and will be removed in Pillow 10 (2023-07-01). Use Resampling.BILINEAR instead.\n",
      "  'bilinear': pil_image.BILINEAR,\n",
      "/home/aayush/git/fitapp_analysis/fitapp_aayush/lib/python3.9/site-packages/keras/utils/image_utils.py:38: DeprecationWarning: BICUBIC is deprecated and will be removed in Pillow 10 (2023-07-01). Use Resampling.BICUBIC instead.\n",
      "  'bicubic': pil_image.BICUBIC,\n",
      "/home/aayush/git/fitapp_analysis/fitapp_aayush/lib/python3.9/site-packages/keras/utils/image_utils.py:39: DeprecationWarning: HAMMING is deprecated and will be removed in Pillow 10 (2023-07-01). Use Resampling.HAMMING instead.\n",
      "  'hamming': pil_image.HAMMING,\n",
      "/home/aayush/git/fitapp_analysis/fitapp_aayush/lib/python3.9/site-packages/keras/utils/image_utils.py:40: DeprecationWarning: BOX is deprecated and will be removed in Pillow 10 (2023-07-01). Use Resampling.BOX instead.\n",
      "  'box': pil_image.BOX,\n",
      "/home/aayush/git/fitapp_analysis/fitapp_aayush/lib/python3.9/site-packages/keras/utils/image_utils.py:41: DeprecationWarning: LANCZOS is deprecated and will be removed in Pillow 10 (2023-07-01). Use Resampling.LANCZOS instead.\n",
      "  'lanczos': pil_image.LANCZOS,\n"
     ]
    }
   ],
   "source": [
    "from recsim import document\n",
    "from recsim import user\n",
    "from recsim.choice_model import MultinomialLogitChoiceModel\n",
    "from recsim.simulator import environment\n",
    "from recsim.simulator import recsim_gym"
   ]
  },
  {
   "cell_type": "code",
   "execution_count": 36,
   "metadata": {},
   "outputs": [],
   "source": [
    "class LTSDocument(document.AbstractDocument):\n",
    "  def __init__(self, doc_id, genre):\n",
    "    self.genre = genre\n",
    "    # doc_id is an integer representing the unique ID of this document\n",
    "    super(LTSDocument, self).__init__(doc_id)\n",
    "\n",
    "  def create_observation(self):\n",
    "    return self.genre\n",
    "    #return np.array([self.genre])\n",
    "\n",
    "  @staticmethod\n",
    "  def observation_space():\n",
    "    return spaces.Discrete(10)\n",
    "    #return spaces.Box(shape=(1,), dtype=np.float32, low=0.0, high=1.0)\n",
    "  \n",
    "  def __str__(self):\n",
    "    return \"Music {} with genre {}.\".format(self._doc_id, self.genre)"
   ]
  },
  {
   "cell_type": "code",
   "execution_count": 38,
   "metadata": {},
   "outputs": [],
   "source": [
    "class LTSDocumentSampler(document.AbstractDocumentSampler):\n",
    "  def __init__(self, doc_ctor=LTSDocument, **kwargs):\n",
    "    super(LTSDocumentSampler, self).__init__(doc_ctor, **kwargs)\n",
    "    self._music_count = 0\n",
    "\n",
    "  def sample_document(self):\n",
    "    music_features = {}\n",
    "    music_features['doc_id'] = self._music_count\n",
    "    music_features['genre'] = self._rng.random_integers(10)\n",
    "    self._music_count += 1\n",
    "    return self._doc_ctor(**music_features)"
   ]
  },
  {
   "cell_type": "code",
   "execution_count": 39,
   "metadata": {},
   "outputs": [
    {
     "name": "stdout",
     "output_type": "stream",
     "text": [
      "Music 0 with genre 6.\n",
      "Music 1 with genre 1.\n",
      "Music 2 with genre 4.\n",
      "Music 3 with genre 4.\n",
      "Music 4 with genre 8.\n",
      "Music 5 with genre 10.\n",
      "Music 6 with genre 4.\n",
      "Music 7 with genre 6.\n",
      "Music 8 with genre 3.\n",
      "Music 9 with genre 5.\n",
      "Documents have observation space: Discrete(10) \n",
      "An example realization is:  8\n"
     ]
    },
    {
     "name": "stderr",
     "output_type": "stream",
     "text": [
      "/tmp/ipykernel_4070978/3447439163.py:9: DeprecationWarning: This function is deprecated. Please call randint(1, 10 + 1) instead\n",
      "  music_features['genre'] = self._rng.random_integers(10)\n"
     ]
    }
   ],
   "source": [
    "sampler = LTSDocumentSampler()\n",
    "for i in range(10): print(sampler.sample_document())\n",
    "d = sampler.sample_document()\n",
    "print(\"Documents have observation space:\", d.observation_space(), \"\\n\"\n",
    "      \"An example realization is: \", d.create_observation())"
   ]
  },
  {
   "cell_type": "markdown",
   "metadata": {},
   "source": [
    "User Model"
   ]
  },
  {
   "cell_type": "code",
   "execution_count": 41,
   "metadata": {},
   "outputs": [],
   "source": [
    "class LTSUserState(user.AbstractUserState):\n",
    "  def __init__(self, age_range, gender_group, memory_discount, sensitivity, innovation_stddev,\n",
    "               choc_mean, choc_stddev, genre_mean, genre_stddev,\n",
    "               net_genre_exposure, time_budget, observation_noise_stddev=0.1\n",
    "              ):\n",
    "\n",
    "    ##User specific\n",
    "    self.age_range = age_range\n",
    "    self.gender_group = gender_group\n",
    "    ## Transition model parameters\n",
    "    ##############################\n",
    "    self.memory_discount = memory_discount\n",
    "    self.sensitivity = sensitivity\n",
    "    self.innovation_stddev = innovation_stddev\n",
    "\n",
    "    ## Engagement parameters\n",
    "    self.choc_mean = choc_mean\n",
    "    self.choc_stddev = choc_stddev\n",
    "    self.genre_mean = genre_mean\n",
    "    self.genre_stddev = genre_stddev\n",
    "\n",
    "    ## State variables\n",
    "    ##############################\n",
    "    self.net_genre_exposure = net_genre_exposure\n",
    "    self.satisfaction = 1 / (1 + np.exp(-sensitivity * net_genre_exposure))\n",
    "    self.time_budget = time_budget\n",
    "\n",
    "    # Noise\n",
    "    self._observation_noise = observation_noise_stddev\n",
    "\n",
    "  def create_observation(self):\n",
    "    \"\"\"User's state is not observable.\"\"\"\n",
    "    clip_low, clip_high = (-1.0 / (1.0 * self._observation_noise),\n",
    "                           1.0 / (1.0 * self._observation_noise))\n",
    "    noise = stats.truncnorm(\n",
    "        clip_low, clip_high, loc=0.0, scale=self._observation_noise).rvs()\n",
    "    noisy_sat = self.satisfaction + noise\n",
    "    return np.array([noisy_sat,])\n",
    "\n",
    "  @staticmethod\n",
    "  def observation_space():\n",
    "    return spaces.Box(shape=(1,), dtype=np.float32, low=-2.0, high=2.0)\n",
    "  \n",
    "  # scoring function for use in the choice model -- the user is more likely to\n",
    "  # click on more chocolatey content.\n",
    "  def score_document(self, doc_obs):\n",
    "    return 1 - doc_obs"
   ]
  },
  {
   "cell_type": "code",
   "execution_count": 7,
   "metadata": {},
   "outputs": [],
   "source": [
    "class LTSUserState(user.AbstractUserState):\n",
    "  def __init__(self, memory_discount, sensitivity, innovation_stddev,\n",
    "               choc_mean, choc_stddev, kale_mean, kale_stddev,\n",
    "               net_kaleness_exposure, time_budget, observation_noise_stddev=0.1\n",
    "              ):\n",
    "    ## Transition model parameters\n",
    "    ##############################\n",
    "    self.memory_discount = memory_discount\n",
    "    self.sensitivity = sensitivity\n",
    "    self.innovation_stddev = innovation_stddev\n",
    "\n",
    "    ## Engagement parameters\n",
    "    self.choc_mean = choc_mean\n",
    "    self.choc_stddev = choc_stddev\n",
    "    self.kale_mean = kale_mean\n",
    "    self.kale_stddev = kale_stddev\n",
    "\n",
    "    ## State variables\n",
    "    ##############################\n",
    "    self.net_kaleness_exposure = net_kaleness_exposure\n",
    "    self.satisfaction = 1 / (1 + np.exp(-sensitivity * net_kaleness_exposure))\n",
    "    self.time_budget = time_budget\n",
    "\n",
    "    # Noise\n",
    "    self._observation_noise = observation_noise_stddev\n",
    "\n",
    "  def create_observation(self):\n",
    "    \"\"\"User's state is not observable.\"\"\"\n",
    "    clip_low, clip_high = (-1.0 / (1.0 * self._observation_noise),\n",
    "                           1.0 / (1.0 * self._observation_noise))\n",
    "    noise = stats.truncnorm(\n",
    "        clip_low, clip_high, loc=0.0, scale=self._observation_noise).rvs()\n",
    "    noisy_sat = self.satisfaction + noise\n",
    "    return np.array([noisy_sat,])\n",
    "\n",
    "  @staticmethod\n",
    "  def observation_space():\n",
    "    return spaces.Box(shape=(1,), dtype=np.float32, low=-2.0, high=2.0)\n",
    "  \n",
    "  # scoring function for use in the choice model -- the user is more likely to\n",
    "  # click on more chocolatey content.\n",
    "  def score_document(self, doc_obs):\n",
    "    return 1 - doc_obs"
   ]
  },
  {
   "cell_type": "code",
   "execution_count": 42,
   "metadata": {},
   "outputs": [
    {
     "name": "stderr",
     "output_type": "stream",
     "text": [
      "/tmp/ipykernel_4070978/1387063270.py:6: DeprecationWarning: This function is deprecated. Please call randint(20, 60 + 1) instead\n",
      "  age_range=np.random.random_integers(20,60),\n",
      "/tmp/ipykernel_4070978/1387063270.py:7: DeprecationWarning: This function is deprecated. Please call randint(1, 1 + 1) instead\n",
      "  gender_group=np.random.random_integers(1),\n"
     ]
    }
   ],
   "source": [
    "class LTSStaticUserSampler(user.AbstractUserSampler):\n",
    "  _state_parameters = None\n",
    "\n",
    "  def __init__(self,\n",
    "               user_ctor=LTSUserState,\n",
    "               age_range=np.random.random_integers(20,60),\n",
    "               gender_group=np.random.random_integers(1),\n",
    "               memory_discount=0.9,\n",
    "               sensitivity=0.01,\n",
    "               innovation_stddev=0.05,\n",
    "               choc_mean=5.0,\n",
    "               choc_stddev=1.0,\n",
    "               genre_mean=4.0,\n",
    "               genre_stddev=1.0,\n",
    "               time_budget=60,\n",
    "               **kwargs):\n",
    "    self._state_parameters = {'age_range' : age_range,\n",
    "                              'gender_group' : gender_group,\n",
    "                              'memory_discount': memory_discount,\n",
    "                              'sensitivity': sensitivity,\n",
    "                              'innovation_stddev': innovation_stddev,\n",
    "                              'choc_mean': choc_mean,\n",
    "                              'choc_stddev': choc_stddev,\n",
    "                              'genre_mean': genre_mean,\n",
    "                              'genre_stddev': genre_stddev,\n",
    "                              'time_budget': time_budget\n",
    "                             }\n",
    "    super(LTSStaticUserSampler, self).__init__(user_ctor, **kwargs)\n",
    "\n",
    "  def sample_user(self):\n",
    "    starting_nke = ((self._rng.random_sample() - .5) *\n",
    "                    (1 / (1.0 - self._state_parameters['memory_discount'])))\n",
    "    self._state_parameters['net_genre_exposure'] = starting_nke\n",
    "    return self._user_ctor(**self._state_parameters)"
   ]
  },
  {
   "cell_type": "code",
   "execution_count": 43,
   "metadata": {},
   "outputs": [
    {
     "data": {
      "image/png": "[encoded data removed]",
      "text/plain": [
       "<Figure size 432x288 with 1 Axes>"
      ]
     },
     "metadata": {
      "needs_background": "light"
     },
     "output_type": "display_data"
    }
   ],
   "source": [
    "sampler = LTSStaticUserSampler()\n",
    "starting_nke = []\n",
    "for i in range(1000):\n",
    "  sampled_user = sampler.sample_user()\n",
    "  starting_nke.append(sampled_user.net_genre_exposure)\n",
    "_ = plt.hist(starting_nke)"
   ]
  },
  {
   "cell_type": "markdown",
   "metadata": {},
   "source": [
    "Response Model"
   ]
  },
  {
   "cell_type": "code",
   "execution_count": 44,
   "metadata": {},
   "outputs": [],
   "source": [
    "class LTSResponse(user.AbstractResponse):\n",
    "  # The maximum degree of engagement.\n",
    "  MAX_ENGAGEMENT_MAGNITUDE = 100.0\n",
    "\n",
    "  def __init__(self, clicked=False, engagement=0.0):\n",
    "    self.clicked = clicked\n",
    "    self.engagement = engagement\n",
    "\n",
    "  def create_observation(self):\n",
    "    return {'click': int(self.clicked), 'engagement': np.array(self.engagement)}\n",
    "\n",
    "  @classmethod\n",
    "  def response_space(cls):\n",
    "    # `engagement` feature range is [0, MAX_ENGAGEMENT_MAGNITUDE]\n",
    "    return spaces.Dict({\n",
    "        'click':\n",
    "            spaces.Discrete(2),\n",
    "        'engagement':\n",
    "            spaces.Box(\n",
    "                low=0.0,\n",
    "                high=cls.MAX_ENGAGEMENT_MAGNITUDE,\n",
    "                shape=tuple(),\n",
    "                dtype=np.float32)\n",
    "    })"
   ]
  },
  {
   "cell_type": "code",
   "execution_count": 45,
   "metadata": {},
   "outputs": [],
   "source": [
    "def user_init(self,\n",
    "              slate_size,\n",
    "              seed=0):\n",
    "\n",
    "  super(LTSUserModel,\n",
    "        self).__init__(LTSResponse,\n",
    "                       LTSStaticUserSampler(LTSUserState,\n",
    "                                            seed=seed), slate_size)\n",
    "  self.choice_model = MultinomialLogitChoiceModel({})\n"
   ]
  },
  {
   "cell_type": "code",
   "execution_count": 46,
   "metadata": {},
   "outputs": [],
   "source": [
    "def simulate_response(self, slate_documents):\n",
    "  # List of empty responses\n",
    "  responses = [self._response_model_ctor() for _ in slate_documents]\n",
    "  # Get click from of choice model.\n",
    "  self.choice_model.score_documents(\n",
    "    self._user_state, [doc.create_observation() for doc in slate_documents])\n",
    "  scores = self.choice_model.scores\n",
    "  selected_index = self.choice_model.choose_item()\n",
    "  # Populate clicked item.\n",
    "  self._generate_response(slate_documents[selected_index],\n",
    "                          responses[selected_index])\n",
    "  return responses\n",
    "\n",
    "def generate_response(self, doc, response):\n",
    "  response.clicked = True\n",
    "  # linear interpolation between choc and genre.\n",
    "  engagement_loc = (doc.genre * self._user_state.choc_mean\n",
    "                    + (1 - doc.genre) * self._user_state.genre_mean)\n",
    "  engagement_loc *= self._user_state.satisfaction\n",
    "  engagement_scale = (doc.genre * self._user_state.choc_stddev\n",
    "                      + ((1 - doc.genre)\n",
    "                          * self._user_state.genre_stddev))\n",
    "  log_engagement = np.random.normal(loc=engagement_loc,\n",
    "                                    scale=engagement_scale)\n",
    "  response.engagement = np.exp(log_engagement)"
   ]
  },
  {
   "cell_type": "code",
   "execution_count": 47,
   "metadata": {},
   "outputs": [],
   "source": [
    "def update_state(self, slate_documents, responses):\n",
    "  for doc, response in zip(slate_documents, responses):\n",
    "    if response.clicked:\n",
    "      innovation = np.random.normal(scale=self._user_state.innovation_stddev)\n",
    "      net_genre_exposure = (self._user_state.memory_discount\n",
    "                                * self._user_state.net_genre_exposure\n",
    "                                - 2.0 * (doc.genre - 0.5)\n",
    "                                + innovation\n",
    "                              )\n",
    "      self._user_state.net_genre_exposure = net_genre_exposure\n",
    "      satisfaction = 1 / (1.0 + np.exp(-self._user_state.sensitivity\n",
    "                                        * net_genre_exposure)\n",
    "                          )\n",
    "      self._user_state.satisfaction = satisfaction\n",
    "      self._user_state.time_budget -= 1\n",
    "      return"
   ]
  },
  {
   "cell_type": "code",
   "execution_count": 48,
   "metadata": {},
   "outputs": [],
   "source": [
    "def is_terminal(self):\n",
    "  \"\"\"Returns a boolean indicating if the session is over.\"\"\"\n",
    "  return self._user_state.time_budget <= 0"
   ]
  },
  {
   "cell_type": "code",
   "execution_count": 49,
   "metadata": {},
   "outputs": [],
   "source": [
    "LTSUserModel = type(\"LTSUserModel\", (user.AbstractUserModel,),\n",
    "                    {\"__init__\": user_init,\n",
    "                     \"is_terminal\": is_terminal,\n",
    "                     \"update_state\": update_state,\n",
    "                     \"simulate_response\": simulate_response,\n",
    "                     \"_generate_response\": generate_response})"
   ]
  },
  {
   "cell_type": "code",
   "execution_count": 50,
   "metadata": {},
   "outputs": [
    {
     "name": "stderr",
     "output_type": "stream",
     "text": [
      "/tmp/ipykernel_4070978/3447439163.py:9: DeprecationWarning: This function is deprecated. Please call randint(1, 10 + 1) instead\n",
      "  music_features['genre'] = self._rng.random_integers(10)\n"
     ]
    }
   ],
   "source": [
    "slate_size = 3\n",
    "num_candidates = 10\n",
    "ltsenv = environment.Environment(\n",
    "            LTSUserModel(slate_size),\n",
    "            LTSDocumentSampler(),\n",
    "            num_candidates,\n",
    "            slate_size,\n",
    "            resample_documents=True)"
   ]
  },
  {
   "cell_type": "code",
   "execution_count": 51,
   "metadata": {},
   "outputs": [],
   "source": [
    "def clicked_engagement_reward(responses):\n",
    "  reward = 0.0\n",
    "  for response in responses:\n",
    "    if response.clicked:\n",
    "      reward += response.engagement\n",
    "  return reward"
   ]
  },
  {
   "cell_type": "code",
   "execution_count": 52,
   "metadata": {},
   "outputs": [],
   "source": [
    "lts_gym_env = recsim_gym.RecSimGymEnv(ltsenv, clicked_engagement_reward)"
   ]
  },
  {
   "cell_type": "code",
   "execution_count": null,
   "metadata": {},
   "outputs": [],
   "source": []
  },
  {
   "cell_type": "code",
   "execution_count": null,
   "metadata": {},
   "outputs": [],
   "source": []
  },
  {
   "cell_type": "code",
   "execution_count": 54,
   "metadata": {},
   "outputs": [
    {
     "name": "stdout",
     "output_type": "stream",
     "text": [
      "Observation 0\n",
      "Available documents\n",
      "music_id 30 genre 3\n",
      "music_id 31 genre 4\n",
      "music_id 32 genre 9\n",
      "music_id 33 genre 2\n",
      "music_id 34 genre 4\n",
      "music_id 35 genre 4\n",
      "music_id 36 genre 4\n",
      "music_id 37 genre 8\n",
      "music_id 38 genre 1\n",
      "music_id 39 genre 2\n",
      "Noisy user state observation\n",
      "[0.31345803]\n",
      "Observation 1\n",
      "Available documents\n",
      "music_id 40 genre 10\n",
      "music_id 41 genre 10\n",
      "music_id 42 genre 1\n",
      "music_id 43 genre 5\n",
      "music_id 44 genre 8\n",
      "music_id 45 genre 4\n",
      "music_id 46 genre 3\n",
      "music_id 47 genre 8\n",
      "music_id 48 genre 3\n",
      "music_id 49 genre 1\n",
      "User responses to documents in the slate\n",
      "{'click': 1, 'engagement': array(21.3065692)}\n",
      "{'click': 0, 'engagement': array(0.)}\n",
      "{'click': 0, 'engagement': array(0.)}\n",
      "Noisy user state observation\n",
      "[0.50317804]\n"
     ]
    },
    {
     "name": "stderr",
     "output_type": "stream",
     "text": [
      "/tmp/ipykernel_4070978/3447439163.py:9: DeprecationWarning: This function is deprecated. Please call randint(1, 10 + 1) instead\n",
      "  music_features['genre'] = self._rng.random_integers(10)\n"
     ]
    }
   ],
   "source": [
    "observation_0 = lts_gym_env.reset()\n",
    "print('Observation 0')\n",
    "print('Available documents')\n",
    "doc_strings = ['music_id ' + key + \" genre \" + str(value) for key, value\n",
    "               in observation_0['doc'].items()]\n",
    "print('\\n'.join(doc_strings))\n",
    "print('Noisy user state observation')\n",
    "print(observation_0['user'])\n",
    "# Agent recommends the first three documents.\n",
    "recommendation_slate_0 = [0, 1, 2]\n",
    "observation_1, reward, done, _ = lts_gym_env.step(recommendation_slate_0)\n",
    "print('Observation 1')\n",
    "print('Available documents')\n",
    "doc_strings = ['music_id ' + key + \" genre \" + str(value) for key, value\n",
    "               in observation_1['doc'].items()]\n",
    "print('\\n'.join(doc_strings))\n",
    "rsp_strings = [str(response) for response in observation_1['response']]\n",
    "print('User responses to documents in the slate')\n",
    "print('\\n'.join(rsp_strings))\n",
    "print('Noisy user state observation')\n",
    "print(observation_1['user'])"
   ]
  }
 ],
 "metadata": {
  "kernelspec": {
   "display_name": "Python 3.9.7 ('fitapp_aayush': venv)",
   "language": "python",
   "name": "python3"
  },
  "language_info": {
   "codemirror_mode": {
    "name": "ipython",
    "version": 3
   },
   "file_extension": ".py",
   "mimetype": "text/x-python",
   "name": "python",
   "nbconvert_exporter": "python",
   "pygments_lexer": "ipython3",
   "version": "3.9.7"
  },
  "orig_nbformat": 4,
  "vscode": {
   "interpreter": {
    "hash": "a6a31ade3159a8ae9629d15702bfa921f314894f16ec77f22567681e24dda767"
   }
  }
 },
 "nbformat": 4,
 "nbformat_minor": 2
}
