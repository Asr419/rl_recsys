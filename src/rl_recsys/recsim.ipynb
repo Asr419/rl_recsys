{
 "cells": [
  {
   "cell_type": "code",
   "execution_count": 1,
   "metadata": {},
   "outputs": [
    {
     "name": "stdout",
     "output_type": "stream",
     "text": [
      "Collecting recsim\n",
      "  Downloading recsim-0.2.4.tar.gz (65 kB)\n",
      "\u001b[K     |████████████████████████████████| 65 kB 1.5 MB/s eta 0:00:01\n",
      "\u001b[?25hRequirement already satisfied: absl-py in ./fitapp_aayush/lib/python3.9/site-packages (from recsim) (1.0.0)\n",
      "Collecting dopamine-rl>=2.0.5\n",
      "  Downloading dopamine_rl-4.0.6-py3-none-any.whl (179 kB)\n",
      "\u001b[K     |████████████████████████████████| 179 kB 2.0 MB/s eta 0:00:01\n",
      "\u001b[?25hCollecting gin-config\n",
      "  Downloading gin_config-0.5.0-py3-none-any.whl (61 kB)\n",
      "\u001b[K     |████████████████████████████████| 61 kB 1.7 MB/s eta 0:00:01\n",
      "\u001b[?25hRequirement already satisfied: gym in ./fitapp_aayush/lib/python3.9/site-packages (from recsim) (0.24.0)\n",
      "Requirement already satisfied: numpy in ./fitapp_aayush/lib/python3.9/site-packages (from recsim) (1.22.4)\n",
      "Requirement already satisfied: scipy in ./fitapp_aayush/lib/python3.9/site-packages (from recsim) (1.8.1)\n",
      "Requirement already satisfied: tensorflow in ./fitapp_aayush/lib/python3.9/site-packages (from recsim) (2.9.1)\n",
      "Collecting jax>=0.1.72\n",
      "  Downloading jax-0.3.21.tar.gz (1.1 MB)\n",
      "\u001b[K     |████████████████████████████████| 1.1 MB 3.0 MB/s eta 0:00:01\n",
      "\u001b[?25hRequirement already satisfied: pandas>=0.24.2 in ./fitapp_aayush/lib/python3.9/site-packages (from dopamine-rl>=2.0.5->recsim) (1.4.2)\n",
      "Collecting jaxlib>=0.1.51\n",
      "  Downloading jaxlib-0.3.20-cp39-cp39-manylinux2014_x86_64.whl (72.2 MB)\n",
      "\u001b[K     |████████████████████████████████| 72.2 MB 1.3 MB/s eta 0:00:01\n",
      "\u001b[?25hCollecting opencv-python>=3.4.8.29\n",
      "  Downloading opencv_python-4.6.0.66-cp36-abi3-manylinux_2_17_x86_64.manylinux2014_x86_64.whl (60.9 MB)\n",
      "\u001b[K     |████████████████████████████████| 60.9 MB 1.4 MB/s eta 0:00:01\n",
      "\u001b[?25hRequirement already satisfied: Pillow>=7.0.0 in ./fitapp_aayush/lib/python3.9/site-packages (from dopamine-rl>=2.0.5->recsim) (9.1.1)\n",
      "Collecting flax>=0.2.0\n",
      "  Downloading flax-0.6.1-py3-none-any.whl (185 kB)\n",
      "\u001b[K     |████████████████████████████████| 185 kB 1.6 MB/s eta 0:00:01\n",
      "\u001b[?25hCollecting tensorflow-probability>=0.13.0\n",
      "  Downloading tensorflow_probability-0.18.0-py2.py3-none-any.whl (6.6 MB)\n",
      "\u001b[K     |████████████████████████████████| 6.6 MB 1.3 MB/s eta 0:00:01\n",
      "\u001b[?25hCollecting tf-slim>=1.0\n",
      "  Downloading tf_slim-1.1.0-py2.py3-none-any.whl (352 kB)\n",
      "\u001b[K     |████████████████████████████████| 352 kB 617 kB/s eta 0:00:01\n",
      "\u001b[?25hCollecting pygame>=1.9.2\n",
      "  Downloading pygame-2.1.2-cp39-cp39-manylinux_2_17_x86_64.manylinux2014_x86_64.whl (21.9 MB)\n",
      "\u001b[K     |████████████████████████████████| 21.9 MB 1.3 MB/s eta 0:00:01\n",
      "\u001b[?25hRequirement already satisfied: six in ./fitapp_aayush/lib/python3.9/site-packages (from absl-py->recsim) (1.16.0)\n",
      "Collecting msgpack\n",
      "  Downloading msgpack-1.0.4-cp39-cp39-manylinux_2_17_x86_64.manylinux2014_x86_64.whl (322 kB)\n",
      "\u001b[K     |████████████████████████████████| 322 kB 1.6 MB/s eta 0:00:01\n",
      "\u001b[?25hRequirement already satisfied: matplotlib in ./fitapp_aayush/lib/python3.9/site-packages (from flax>=0.2.0->dopamine-rl>=2.0.5->recsim) (3.5.2)\n",
      "Requirement already satisfied: typing-extensions>=4.1.1 in ./fitapp_aayush/lib/python3.9/site-packages (from flax>=0.2.0->dopamine-rl>=2.0.5->recsim) (4.2.0)\n",
      "Collecting PyYAML>=5.4.1\n",
      "  Downloading PyYAML-6.0-cp39-cp39-manylinux_2_5_x86_64.manylinux1_x86_64.manylinux_2_12_x86_64.manylinux2010_x86_64.whl (661 kB)\n",
      "\u001b[K     |████████████████████████████████| 661 kB 1.5 MB/s eta 0:00:01\n",
      "\u001b[?25hCollecting optax\n",
      "  Downloading optax-0.1.3-py3-none-any.whl (145 kB)\n",
      "\u001b[K     |████████████████████████████████| 145 kB 1.8 MB/s eta 0:00:01\n",
      "\u001b[?25hCollecting rich>=11.1\n",
      "  Downloading rich-12.6.0-py3-none-any.whl (237 kB)\n",
      "\u001b[K     |████████████████████████████████| 237 kB 3.4 MB/s eta 0:00:01\n",
      "\u001b[?25hRequirement already satisfied: importlib-metadata>=4.8.0 in ./fitapp_aayush/lib/python3.9/site-packages (from gym->recsim) (4.11.4)\n",
      "Requirement already satisfied: cloudpickle>=1.2.0 in ./fitapp_aayush/lib/python3.9/site-packages (from gym->recsim) (2.1.0)\n",
      "Requirement already satisfied: gym-notices>=0.0.4 in ./fitapp_aayush/lib/python3.9/site-packages (from gym->recsim) (0.0.6)\n",
      "Requirement already satisfied: zipp>=0.5 in ./fitapp_aayush/lib/python3.9/site-packages (from importlib-metadata>=4.8.0->gym->recsim) (3.8.0)\n",
      "Requirement already satisfied: opt_einsum in ./fitapp_aayush/lib/python3.9/site-packages (from jax>=0.1.72->dopamine-rl>=2.0.5->recsim) (3.3.0)\n",
      "Collecting etils[epath]\n",
      "  Downloading etils-0.8.0-py3-none-any.whl (127 kB)\n",
      "\u001b[K     |████████████████████████████████| 127 kB 3.0 MB/s eta 0:00:01\n",
      "\u001b[?25hRequirement already satisfied: pytz>=2020.1 in ./fitapp_aayush/lib/python3.9/site-packages (from pandas>=0.24.2->dopamine-rl>=2.0.5->recsim) (2022.1)\n",
      "Requirement already satisfied: python-dateutil>=2.8.1 in ./fitapp_aayush/lib/python3.9/site-packages (from pandas>=0.24.2->dopamine-rl>=2.0.5->recsim) (2.8.2)\n",
      "Collecting commonmark<0.10.0,>=0.9.0\n",
      "  Downloading commonmark-0.9.1-py2.py3-none-any.whl (51 kB)\n",
      "\u001b[K     |████████████████████████████████| 51 kB 9.3 MB/s eta 0:00:01\n",
      "\u001b[?25hRequirement already satisfied: pygments<3.0.0,>=2.6.0 in ./fitapp_aayush/lib/python3.9/site-packages (from rich>=11.1->flax>=0.2.0->dopamine-rl>=2.0.5->recsim) (2.12.0)\n",
      "Requirement already satisfied: protobuf<3.20,>=3.9.2 in ./fitapp_aayush/lib/python3.9/site-packages (from tensorflow->recsim) (3.19.4)\n",
      "Requirement already satisfied: h5py>=2.9.0 in ./fitapp_aayush/lib/python3.9/site-packages (from tensorflow->recsim) (3.7.0)\n",
      "Requirement already satisfied: tensorboard<2.10,>=2.9 in ./fitapp_aayush/lib/python3.9/site-packages (from tensorflow->recsim) (2.9.0)\n",
      "Requirement already satisfied: packaging in ./fitapp_aayush/lib/python3.9/site-packages (from tensorflow->recsim) (21.3)\n",
      "Requirement already satisfied: google-pasta>=0.1.1 in ./fitapp_aayush/lib/python3.9/site-packages (from tensorflow->recsim) (0.2.0)\n",
      "Requirement already satisfied: wrapt>=1.11.0 in ./fitapp_aayush/lib/python3.9/site-packages (from tensorflow->recsim) (1.14.1)\n",
      "Requirement already satisfied: keras-preprocessing>=1.1.1 in ./fitapp_aayush/lib/python3.9/site-packages (from tensorflow->recsim) (1.1.2)\n",
      "Requirement already satisfied: tensorflow-io-gcs-filesystem>=0.23.1 in ./fitapp_aayush/lib/python3.9/site-packages (from tensorflow->recsim) (0.26.0)\n",
      "Requirement already satisfied: setuptools in ./fitapp_aayush/lib/python3.9/site-packages (from tensorflow->recsim) (57.4.0)\n",
      "Requirement already satisfied: libclang>=13.0.0 in ./fitapp_aayush/lib/python3.9/site-packages (from tensorflow->recsim) (14.0.1)\n",
      "Requirement already satisfied: flatbuffers<2,>=1.12 in ./fitapp_aayush/lib/python3.9/site-packages (from tensorflow->recsim) (1.12)\n",
      "Requirement already satisfied: gast<=0.4.0,>=0.2.1 in ./fitapp_aayush/lib/python3.9/site-packages (from tensorflow->recsim) (0.4.0)\n",
      "Requirement already satisfied: keras<2.10.0,>=2.9.0rc0 in ./fitapp_aayush/lib/python3.9/site-packages (from tensorflow->recsim) (2.9.0)\n",
      "Requirement already satisfied: tensorflow-estimator<2.10.0,>=2.9.0rc0 in ./fitapp_aayush/lib/python3.9/site-packages (from tensorflow->recsim) (2.9.0)\n",
      "Requirement already satisfied: astunparse>=1.6.0 in ./fitapp_aayush/lib/python3.9/site-packages (from tensorflow->recsim) (1.6.3)\n",
      "Requirement already satisfied: grpcio<2.0,>=1.24.3 in ./fitapp_aayush/lib/python3.9/site-packages (from tensorflow->recsim) (1.46.3)\n",
      "Requirement already satisfied: termcolor>=1.1.0 in ./fitapp_aayush/lib/python3.9/site-packages (from tensorflow->recsim) (1.1.0)\n",
      "Requirement already satisfied: wheel<1.0,>=0.23.0 in ./fitapp_aayush/lib/python3.9/site-packages (from astunparse>=1.6.0->tensorflow->recsim) (0.37.1)\n",
      "Requirement already satisfied: markdown>=2.6.8 in ./fitapp_aayush/lib/python3.9/site-packages (from tensorboard<2.10,>=2.9->tensorflow->recsim) (3.3.7)\n",
      "Requirement already satisfied: werkzeug>=1.0.1 in ./fitapp_aayush/lib/python3.9/site-packages (from tensorboard<2.10,>=2.9->tensorflow->recsim) (2.1.2)\n",
      "Requirement already satisfied: tensorboard-data-server<0.7.0,>=0.6.0 in ./fitapp_aayush/lib/python3.9/site-packages (from tensorboard<2.10,>=2.9->tensorflow->recsim) (0.6.1)\n",
      "Requirement already satisfied: google-auth<3,>=1.6.3 in ./fitapp_aayush/lib/python3.9/site-packages (from tensorboard<2.10,>=2.9->tensorflow->recsim) (2.6.6)\n",
      "Requirement already satisfied: tensorboard-plugin-wit>=1.6.0 in ./fitapp_aayush/lib/python3.9/site-packages (from tensorboard<2.10,>=2.9->tensorflow->recsim) (1.8.1)\n",
      "Requirement already satisfied: requests<3,>=2.21.0 in ./fitapp_aayush/lib/python3.9/site-packages (from tensorboard<2.10,>=2.9->tensorflow->recsim) (2.27.1)\n",
      "Requirement already satisfied: google-auth-oauthlib<0.5,>=0.4.1 in ./fitapp_aayush/lib/python3.9/site-packages (from tensorboard<2.10,>=2.9->tensorflow->recsim) (0.4.6)\n",
      "Requirement already satisfied: rsa<5,>=3.1.4 in ./fitapp_aayush/lib/python3.9/site-packages (from google-auth<3,>=1.6.3->tensorboard<2.10,>=2.9->tensorflow->recsim) (4.8)\n",
      "Requirement already satisfied: pyasn1-modules>=0.2.1 in ./fitapp_aayush/lib/python3.9/site-packages (from google-auth<3,>=1.6.3->tensorboard<2.10,>=2.9->tensorflow->recsim) (0.2.8)\n",
      "Requirement already satisfied: cachetools<6.0,>=2.0.0 in ./fitapp_aayush/lib/python3.9/site-packages (from google-auth<3,>=1.6.3->tensorboard<2.10,>=2.9->tensorflow->recsim) (5.2.0)\n",
      "Requirement already satisfied: requests-oauthlib>=0.7.0 in ./fitapp_aayush/lib/python3.9/site-packages (from google-auth-oauthlib<0.5,>=0.4.1->tensorboard<2.10,>=2.9->tensorflow->recsim) (1.3.1)\n",
      "Requirement already satisfied: pyasn1<0.5.0,>=0.4.6 in ./fitapp_aayush/lib/python3.9/site-packages (from pyasn1-modules>=0.2.1->google-auth<3,>=1.6.3->tensorboard<2.10,>=2.9->tensorflow->recsim) (0.4.8)\n",
      "Requirement already satisfied: urllib3<1.27,>=1.21.1 in ./fitapp_aayush/lib/python3.9/site-packages (from requests<3,>=2.21.0->tensorboard<2.10,>=2.9->tensorflow->recsim) (1.26.9)\n",
      "Requirement already satisfied: certifi>=2017.4.17 in ./fitapp_aayush/lib/python3.9/site-packages (from requests<3,>=2.21.0->tensorboard<2.10,>=2.9->tensorflow->recsim) (2022.5.18.1)\n",
      "Requirement already satisfied: idna<4,>=2.5 in ./fitapp_aayush/lib/python3.9/site-packages (from requests<3,>=2.21.0->tensorboard<2.10,>=2.9->tensorflow->recsim) (3.3)\n",
      "Requirement already satisfied: charset-normalizer~=2.0.0 in ./fitapp_aayush/lib/python3.9/site-packages (from requests<3,>=2.21.0->tensorboard<2.10,>=2.9->tensorflow->recsim) (2.0.12)\n",
      "Requirement already satisfied: oauthlib>=3.0.0 in ./fitapp_aayush/lib/python3.9/site-packages (from requests-oauthlib>=0.7.0->google-auth-oauthlib<0.5,>=0.4.1->tensorboard<2.10,>=2.9->tensorflow->recsim) (3.2.0)\n",
      "Requirement already satisfied: decorator in ./fitapp_aayush/lib/python3.9/site-packages (from tensorflow-probability>=0.13.0->dopamine-rl>=2.0.5->recsim) (5.1.1)\n",
      "Collecting dm-tree\n",
      "  Downloading dm_tree-0.1.7-cp39-cp39-manylinux_2_12_x86_64.manylinux2010_x86_64.whl (142 kB)\n",
      "\u001b[K     |████████████████████████████████| 142 kB 8.1 MB/s eta 0:00:01\n",
      "\u001b[?25hCollecting importlib_resources\n",
      "  Downloading importlib_resources-5.9.0-py3-none-any.whl (33 kB)\n",
      "Requirement already satisfied: pyparsing>=2.2.1 in ./fitapp_aayush/lib/python3.9/site-packages (from matplotlib->flax>=0.2.0->dopamine-rl>=2.0.5->recsim) (3.0.9)\n",
      "Requirement already satisfied: fonttools>=4.22.0 in ./fitapp_aayush/lib/python3.9/site-packages (from matplotlib->flax>=0.2.0->dopamine-rl>=2.0.5->recsim) (4.33.3)\n",
      "Requirement already satisfied: kiwisolver>=1.0.1 in ./fitapp_aayush/lib/python3.9/site-packages (from matplotlib->flax>=0.2.0->dopamine-rl>=2.0.5->recsim) (1.4.3)\n",
      "Requirement already satisfied: cycler>=0.10 in ./fitapp_aayush/lib/python3.9/site-packages (from matplotlib->flax>=0.2.0->dopamine-rl>=2.0.5->recsim) (0.11.0)\n",
      "Collecting chex>=0.0.4\n",
      "  Downloading chex-0.1.5-py3-none-any.whl (85 kB)\n",
      "\u001b[K     |████████████████████████████████| 85 kB 5.7 MB/s eta 0:00:01\n",
      "\u001b[?25hCollecting toolz>=0.9.0\n",
      "  Downloading toolz-0.12.0-py3-none-any.whl (55 kB)\n",
      "\u001b[K     |████████████████████████████████| 55 kB 7.9 MB/s eta 0:00:01\n",
      "\u001b[?25hBuilding wheels for collected packages: recsim, jax\n",
      "  Building wheel for recsim (setup.py) ... \u001b[?25ldone\n",
      "\u001b[?25h  Created wheel for recsim: filename=recsim-0.2.4-py3-none-any.whl size=105529 sha256=a97403da9012325e166f9d65d3371e91391bb6fcdf6649396e42aa68a04f0dc8\n",
      "  Stored in directory: /tmp/pip-ephem-wheel-cache-eolnui5g/wheels/42/2e/7e/f3a9538348581ca0eb099460b756ad50d137d3efabe9a88e82\n",
      "  Building wheel for jax (setup.py) ... \u001b[?25ldone\n",
      "\u001b[?25h  Created wheel for jax: filename=jax-0.3.21-py3-none-any.whl size=1263560 sha256=d071fc02e28e81e38966fe53f0177476b4381d567d6e13232c3148fd92b13831\n",
      "  Stored in directory: /tmp/pip-ephem-wheel-cache-eolnui5g/wheels/cd/fe/13/b51a21b340580b56f5378c5e68d14d19e74e956d575397c41f\n",
      "Successfully built recsim jax\n",
      "Installing collected packages: etils, importlib-resources, toolz, jaxlib, jax, dm-tree, commonmark, chex, rich, PyYAML, optax, msgpack, tf-slim, tensorflow-probability, pygame, opencv-python, gin-config, flax, dopamine-rl, recsim\n",
      "Successfully installed PyYAML-6.0 chex-0.1.5 commonmark-0.9.1 dm-tree-0.1.7 dopamine-rl-4.0.6 etils-0.8.0 flax-0.6.1 gin-config-0.5.0 importlib-resources-5.9.0 jax-0.3.21 jaxlib-0.3.20 msgpack-1.0.4 opencv-python-4.6.0.66 optax-0.1.3 pygame-2.1.2 recsim-0.2.4 rich-12.6.0 tensorflow-probability-0.18.0 tf-slim-1.1.0 toolz-0.12.0\n",
      "\u001b[33mWARNING: You are using pip version 21.2.3; however, version 22.2.2 is available.\n",
      "You should consider upgrading via the '/raid/home/aayush/git/fitapp_analysis/fitapp_aayush/bin/python -m pip install --upgrade pip' command.\u001b[0m\n",
      "\u001b[31mERROR: Could not find a version that satisfies the requirement tf-nightly-2.0-preview (from versions: none)\u001b[0m\n",
      "\u001b[31mERROR: No matching distribution found for tf-nightly-2.0-preview\u001b[0m\n",
      "\u001b[33mWARNING: You are using pip version 21.2.3; however, version 22.2.2 is available.\n",
      "You should consider upgrading via the '/raid/home/aayush/git/fitapp_analysis/fitapp_aayush/bin/python -m pip install --upgrade pip' command.\u001b[0m\n"
     ]
    }
   ],
   "source": [
    "!pip install --upgrade --no-cache-dir recsim\n",
    "!pip install -q tf-nightly-2.0-preview\n",
    "# Load the TensorBoard notebook extension\n",
    "%load_ext tensorboard"
   ]
  },
  {
   "cell_type": "code",
   "execution_count": 2,
   "metadata": {},
   "outputs": [
    {
     "name": "stderr",
     "output_type": "stream",
     "text": [
      "2022-10-04 11:51:14.711007: W tensorflow/stream_executor/platform/default/dso_loader.cc:64] Could not load dynamic library 'libcudart.so.11.0'; dlerror: libcudart.so.11.0: cannot open shared object file: No such file or directory\n",
      "2022-10-04 11:51:14.711051: I tensorflow/stream_executor/cuda/cudart_stub.cc:29] Ignore above cudart dlerror if you do not have a GPU set up on your machine.\n"
     ]
    }
   ],
   "source": [
    "import numpy as np\n",
    "import tensorflow as tf"
   ]
  },
  {
   "cell_type": "code",
   "execution_count": 3,
   "metadata": {},
   "outputs": [],
   "source": [
    "from recsim.environments import interest_evolution\n",
    "from recsim.agents import full_slate_q_agent\n",
    "from recsim.simulator import runner_lib"
   ]
  },
  {
   "cell_type": "code",
   "execution_count": 4,
   "metadata": {},
   "outputs": [],
   "source": [
    "def create_agent(sess, environment, eval_mode, summary_writer=None):\n",
    "  kwargs = {\n",
    "      'observation_space': environment.observation_space,\n",
    "      'action_space': environment.action_space,\n",
    "      'summary_writer': summary_writer,\n",
    "      'eval_mode': eval_mode,\n",
    "  }\n",
    "  return full_slate_q_agent.FullSlateQAgent(sess, **kwargs)"
   ]
  },
  {
   "cell_type": "code",
   "execution_count": 5,
   "metadata": {},
   "outputs": [],
   "source": [
    "seed = 0\n",
    "np.random.seed(seed)\n",
    "env_config = {\n",
    "  'num_candidates': 10,\n",
    "  'slate_size': 2,\n",
    "  'resample_documents': True,\n",
    "  'seed': seed,\n",
    "  }"
   ]
  },
  {
   "cell_type": "code",
   "execution_count": 7,
   "metadata": {},
   "outputs": [
    {
     "name": "stdout",
     "output_type": "stream",
     "text": [
      "INFO:tensorflow:max_training_steps = 50, number_iterations = 10,checkpoint frequency = 1 iterations.\n"
     ]
    },
    {
     "name": "stderr",
     "output_type": "stream",
     "text": [
      "INFO:tensorflow:max_training_steps = 50, number_iterations = 10,checkpoint frequency = 1 iterations.\n"
     ]
    },
    {
     "name": "stdout",
     "output_type": "stream",
     "text": [
      "INFO:tensorflow:max_steps_per_episode = 27000\n"
     ]
    },
    {
     "name": "stderr",
     "output_type": "stream",
     "text": [
      "INFO:tensorflow:max_steps_per_episode = 27000\n",
      "2022-10-04 12:09:27.910727: I tensorflow/core/platform/cpu_feature_guard.cc:193] This TensorFlow binary is optimized with oneAPI Deep Neural Network Library (oneDNN) to use the following CPU instructions in performance-critical operations:  AVX2 FMA\n",
      "To enable them in other operations, rebuild TensorFlow with the appropriate compiler flags.\n"
     ]
    },
    {
     "name": "stdout",
     "output_type": "stream",
     "text": [
      "WARNING:tensorflow:From /home/aayush/git/fitapp_analysis/fitapp_aayush/lib/python3.9/site-packages/tensorflow/python/compat/v2_compat.py:107: disable_resource_variables (from tensorflow.python.ops.variable_scope) is deprecated and will be removed in a future version.\n",
      "Instructions for updating:\n",
      "non-resource variables are not supported in the long term\n"
     ]
    },
    {
     "name": "stderr",
     "output_type": "stream",
     "text": [
      "2022-10-04 12:09:28.848964: W tensorflow/stream_executor/platform/default/dso_loader.cc:64] Could not load dynamic library 'libcudart.so.11.0'; dlerror: libcudart.so.11.0: cannot open shared object file: No such file or directory; LD_LIBRARY_PATH: /raid/home/aayush/git/fitapp_analysis/fitapp_aayush/lib/python3.9/site-packages/cv2/../../lib64:\n",
      "2022-10-04 12:09:28.849110: W tensorflow/stream_executor/platform/default/dso_loader.cc:64] Could not load dynamic library 'libcublas.so.11'; dlerror: libcublas.so.11: cannot open shared object file: No such file or directory; LD_LIBRARY_PATH: /raid/home/aayush/git/fitapp_analysis/fitapp_aayush/lib/python3.9/site-packages/cv2/../../lib64:\n",
      "2022-10-04 12:09:28.849219: W tensorflow/stream_executor/platform/default/dso_loader.cc:64] Could not load dynamic library 'libcublasLt.so.11'; dlerror: libcublasLt.so.11: cannot open shared object file: No such file or directory; LD_LIBRARY_PATH: /raid/home/aayush/git/fitapp_analysis/fitapp_aayush/lib/python3.9/site-packages/cv2/../../lib64:\n",
      "2022-10-04 12:09:28.849323: W tensorflow/stream_executor/platform/default/dso_loader.cc:64] Could not load dynamic library 'libcufft.so.10'; dlerror: libcufft.so.10: cannot open shared object file: No such file or directory; LD_LIBRARY_PATH: /raid/home/aayush/git/fitapp_analysis/fitapp_aayush/lib/python3.9/site-packages/cv2/../../lib64:\n",
      "2022-10-04 12:09:28.849411: W tensorflow/stream_executor/platform/default/dso_loader.cc:64] Could not load dynamic library 'libcurand.so.10'; dlerror: libcurand.so.10: cannot open shared object file: No such file or directory; LD_LIBRARY_PATH: /raid/home/aayush/git/fitapp_analysis/fitapp_aayush/lib/python3.9/site-packages/cv2/../../lib64:\n",
      "2022-10-04 12:09:28.849499: W tensorflow/stream_executor/platform/default/dso_loader.cc:64] Could not load dynamic library 'libcusolver.so.11'; dlerror: libcusolver.so.11: cannot open shared object file: No such file or directory; LD_LIBRARY_PATH: /raid/home/aayush/git/fitapp_analysis/fitapp_aayush/lib/python3.9/site-packages/cv2/../../lib64:\n",
      "2022-10-04 12:09:28.849588: W tensorflow/stream_executor/platform/default/dso_loader.cc:64] Could not load dynamic library 'libcusparse.so.11'; dlerror: libcusparse.so.11: cannot open shared object file: No such file or directory; LD_LIBRARY_PATH: /raid/home/aayush/git/fitapp_analysis/fitapp_aayush/lib/python3.9/site-packages/cv2/../../lib64:\n",
      "2022-10-04 12:09:28.849676: W tensorflow/stream_executor/platform/default/dso_loader.cc:64] Could not load dynamic library 'libcudnn.so.8'; dlerror: libcudnn.so.8: cannot open shared object file: No such file or directory; LD_LIBRARY_PATH: /raid/home/aayush/git/fitapp_analysis/fitapp_aayush/lib/python3.9/site-packages/cv2/../../lib64:\n",
      "2022-10-04 12:09:28.849686: W tensorflow/core/common_runtime/gpu/gpu_device.cc:1850] Cannot dlopen some GPU libraries. Please make sure the missing libraries mentioned above are installed properly if you would like to use GPU. Follow the guide at https://www.tensorflow.org/install/gpu for how to download and setup the required libraries for your platform.\n",
      "Skipping registering GPU devices...\n",
      "WARNING:tensorflow:From /home/aayush/git/fitapp_analysis/fitapp_aayush/lib/python3.9/site-packages/tensorflow/python/compat/v2_compat.py:107: disable_resource_variables (from tensorflow.python.ops.variable_scope) is deprecated and will be removed in a future version.\n",
      "Instructions for updating:\n",
      "non-resource variables are not supported in the long term\n"
     ]
    },
    {
     "name": "stdout",
     "output_type": "stream",
     "text": [
      "WARNING:tensorflow:From /home/aayush/git/fitapp_analysis/fitapp_aayush/lib/python3.9/site-packages/tensorflow/python/training/rmsprop.py:188: calling Ones.__init__ (from tensorflow.python.ops.init_ops) with dtype is deprecated and will be removed in a future version.\n",
      "Instructions for updating:\n",
      "Call initializer instance with the dtype argument instead of passing it to the constructor\n"
     ]
    },
    {
     "name": "stderr",
     "output_type": "stream",
     "text": [
      "WARNING:tensorflow:From /home/aayush/git/fitapp_analysis/fitapp_aayush/lib/python3.9/site-packages/tensorflow/python/training/rmsprop.py:188: calling Ones.__init__ (from tensorflow.python.ops.init_ops) with dtype is deprecated and will be removed in a future version.\n",
      "Instructions for updating:\n",
      "Call initializer instance with the dtype argument instead of passing it to the constructor\n",
      "2022-10-04 12:09:54.931880: I tensorflow/compiler/mlir/mlir_graph_optimization_pass.cc:354] MLIR V1 optimization pass is not enabled\n"
     ]
    },
    {
     "name": "stdout",
     "output_type": "stream",
     "text": [
      "INFO:tensorflow:Beginning training...\n"
     ]
    },
    {
     "name": "stderr",
     "output_type": "stream",
     "text": [
      "INFO:tensorflow:Beginning training...\n"
     ]
    },
    {
     "name": "stdout",
     "output_type": "stream",
     "text": [
      "INFO:tensorflow:Starting iteration 0\n"
     ]
    },
    {
     "name": "stderr",
     "output_type": "stream",
     "text": [
      "INFO:tensorflow:Starting iteration 0\n"
     ]
    },
    {
     "name": "stdout",
     "output_type": "stream",
     "text": [
      "INFO:tensorflow:/tmp/recsim/train/checkpoints/tf_ckpt-0.index\n"
     ]
    },
    {
     "name": "stderr",
     "output_type": "stream",
     "text": [
      "INFO:tensorflow:/tmp/recsim/train/checkpoints/tf_ckpt-0.index\n"
     ]
    },
    {
     "name": "stdout",
     "output_type": "stream",
     "text": [
      "INFO:tensorflow:100\n"
     ]
    },
    {
     "name": "stderr",
     "output_type": "stream",
     "text": [
      "INFO:tensorflow:100\n"
     ]
    },
    {
     "name": "stdout",
     "output_type": "stream",
     "text": [
      "INFO:tensorflow:/tmp/recsim/train/checkpoints/tf_ckpt-0.data-00000-of-00001\n"
     ]
    },
    {
     "name": "stderr",
     "output_type": "stream",
     "text": [
      "INFO:tensorflow:/tmp/recsim/train/checkpoints/tf_ckpt-0.data-00000-of-00001\n"
     ]
    },
    {
     "name": "stdout",
     "output_type": "stream",
     "text": [
      "INFO:tensorflow:51700\n"
     ]
    },
    {
     "name": "stderr",
     "output_type": "stream",
     "text": [
      "INFO:tensorflow:51700\n"
     ]
    },
    {
     "name": "stdout",
     "output_type": "stream",
     "text": [
      "INFO:tensorflow:/tmp/recsim/train/checkpoints/tf_ckpt-0.meta\n"
     ]
    },
    {
     "name": "stderr",
     "output_type": "stream",
     "text": [
      "INFO:tensorflow:/tmp/recsim/train/checkpoints/tf_ckpt-0.meta\n"
     ]
    },
    {
     "name": "stdout",
     "output_type": "stream",
     "text": [
      "INFO:tensorflow:63500\n"
     ]
    },
    {
     "name": "stderr",
     "output_type": "stream",
     "text": [
      "INFO:tensorflow:63500\n"
     ]
    },
    {
     "name": "stdout",
     "output_type": "stream",
     "text": [
      "INFO:tensorflow:Starting iteration 1\n"
     ]
    },
    {
     "name": "stderr",
     "output_type": "stream",
     "text": [
      "INFO:tensorflow:Starting iteration 1\n"
     ]
    },
    {
     "name": "stdout",
     "output_type": "stream",
     "text": [
      "INFO:tensorflow:/tmp/recsim/train/checkpoints/tf_ckpt-1.data-00000-of-00001\n"
     ]
    },
    {
     "name": "stderr",
     "output_type": "stream",
     "text": [
      "INFO:tensorflow:/tmp/recsim/train/checkpoints/tf_ckpt-1.data-00000-of-00001\n"
     ]
    },
    {
     "name": "stdout",
     "output_type": "stream",
     "text": [
      "INFO:tensorflow:51600\n"
     ]
    },
    {
     "name": "stderr",
     "output_type": "stream",
     "text": [
      "INFO:tensorflow:51600\n"
     ]
    },
    {
     "name": "stdout",
     "output_type": "stream",
     "text": [
      "INFO:tensorflow:/tmp/recsim/train/checkpoints/tf_ckpt-1.meta\n"
     ]
    },
    {
     "name": "stderr",
     "output_type": "stream",
     "text": [
      "INFO:tensorflow:/tmp/recsim/train/checkpoints/tf_ckpt-1.meta\n"
     ]
    },
    {
     "name": "stdout",
     "output_type": "stream",
     "text": [
      "INFO:tensorflow:63400\n"
     ]
    },
    {
     "name": "stderr",
     "output_type": "stream",
     "text": [
      "INFO:tensorflow:63400\n"
     ]
    },
    {
     "name": "stdout",
     "output_type": "stream",
     "text": [
      "INFO:tensorflow:/tmp/recsim/train/checkpoints/tf_ckpt-1.index\n"
     ]
    },
    {
     "name": "stderr",
     "output_type": "stream",
     "text": [
      "INFO:tensorflow:/tmp/recsim/train/checkpoints/tf_ckpt-1.index\n"
     ]
    },
    {
     "name": "stdout",
     "output_type": "stream",
     "text": [
      "INFO:tensorflow:63500\n"
     ]
    },
    {
     "name": "stderr",
     "output_type": "stream",
     "text": [
      "INFO:tensorflow:63500\n"
     ]
    },
    {
     "name": "stdout",
     "output_type": "stream",
     "text": [
      "INFO:tensorflow:Starting iteration 2\n"
     ]
    },
    {
     "name": "stderr",
     "output_type": "stream",
     "text": [
      "INFO:tensorflow:Starting iteration 2\n"
     ]
    },
    {
     "name": "stdout",
     "output_type": "stream",
     "text": [
      "INFO:tensorflow:/tmp/recsim/train/checkpoints/tf_ckpt-2.index\n"
     ]
    },
    {
     "name": "stderr",
     "output_type": "stream",
     "text": [
      "INFO:tensorflow:/tmp/recsim/train/checkpoints/tf_ckpt-2.index\n"
     ]
    },
    {
     "name": "stdout",
     "output_type": "stream",
     "text": [
      "INFO:tensorflow:100\n"
     ]
    },
    {
     "name": "stderr",
     "output_type": "stream",
     "text": [
      "INFO:tensorflow:100\n"
     ]
    },
    {
     "name": "stdout",
     "output_type": "stream",
     "text": [
      "INFO:tensorflow:/tmp/recsim/train/checkpoints/tf_ckpt-2.data-00000-of-00001\n"
     ]
    },
    {
     "name": "stderr",
     "output_type": "stream",
     "text": [
      "INFO:tensorflow:/tmp/recsim/train/checkpoints/tf_ckpt-2.data-00000-of-00001\n"
     ]
    },
    {
     "name": "stdout",
     "output_type": "stream",
     "text": [
      "INFO:tensorflow:51700\n"
     ]
    },
    {
     "name": "stderr",
     "output_type": "stream",
     "text": [
      "INFO:tensorflow:51700\n"
     ]
    },
    {
     "name": "stdout",
     "output_type": "stream",
     "text": [
      "INFO:tensorflow:/tmp/recsim/train/checkpoints/tf_ckpt-2.meta\n"
     ]
    },
    {
     "name": "stderr",
     "output_type": "stream",
     "text": [
      "INFO:tensorflow:/tmp/recsim/train/checkpoints/tf_ckpt-2.meta\n"
     ]
    },
    {
     "name": "stdout",
     "output_type": "stream",
     "text": [
      "INFO:tensorflow:63500\n"
     ]
    },
    {
     "name": "stderr",
     "output_type": "stream",
     "text": [
      "INFO:tensorflow:63500\n"
     ]
    },
    {
     "name": "stdout",
     "output_type": "stream",
     "text": [
      "INFO:tensorflow:Starting iteration 3\n"
     ]
    },
    {
     "name": "stderr",
     "output_type": "stream",
     "text": [
      "INFO:tensorflow:Starting iteration 3\n"
     ]
    },
    {
     "name": "stdout",
     "output_type": "stream",
     "text": [
      "INFO:tensorflow:/tmp/recsim/train/checkpoints/tf_ckpt-3.index\n"
     ]
    },
    {
     "name": "stderr",
     "output_type": "stream",
     "text": [
      "INFO:tensorflow:/tmp/recsim/train/checkpoints/tf_ckpt-3.index\n"
     ]
    },
    {
     "name": "stdout",
     "output_type": "stream",
     "text": [
      "INFO:tensorflow:100\n"
     ]
    },
    {
     "name": "stderr",
     "output_type": "stream",
     "text": [
      "INFO:tensorflow:100\n"
     ]
    },
    {
     "name": "stdout",
     "output_type": "stream",
     "text": [
      "INFO:tensorflow:/tmp/recsim/train/checkpoints/tf_ckpt-3.meta\n"
     ]
    },
    {
     "name": "stderr",
     "output_type": "stream",
     "text": [
      "INFO:tensorflow:/tmp/recsim/train/checkpoints/tf_ckpt-3.meta\n"
     ]
    },
    {
     "name": "stdout",
     "output_type": "stream",
     "text": [
      "INFO:tensorflow:11900\n"
     ]
    },
    {
     "name": "stderr",
     "output_type": "stream",
     "text": [
      "INFO:tensorflow:11900\n"
     ]
    },
    {
     "name": "stdout",
     "output_type": "stream",
     "text": [
      "INFO:tensorflow:/tmp/recsim/train/checkpoints/tf_ckpt-3.data-00000-of-00001\n"
     ]
    },
    {
     "name": "stderr",
     "output_type": "stream",
     "text": [
      "INFO:tensorflow:/tmp/recsim/train/checkpoints/tf_ckpt-3.data-00000-of-00001\n"
     ]
    },
    {
     "name": "stdout",
     "output_type": "stream",
     "text": [
      "INFO:tensorflow:63500\n"
     ]
    },
    {
     "name": "stderr",
     "output_type": "stream",
     "text": [
      "INFO:tensorflow:63500\n"
     ]
    },
    {
     "name": "stdout",
     "output_type": "stream",
     "text": [
      "INFO:tensorflow:Starting iteration 4\n"
     ]
    },
    {
     "name": "stderr",
     "output_type": "stream",
     "text": [
      "INFO:tensorflow:Starting iteration 4\n"
     ]
    },
    {
     "name": "stdout",
     "output_type": "stream",
     "text": [
      "WARNING:tensorflow:From /home/aayush/git/fitapp_analysis/fitapp_aayush/lib/python3.9/site-packages/tensorflow/python/training/saver.py:1066: remove_checkpoint (from tensorflow.python.training.checkpoint_management) is deprecated and will be removed in a future version.\n",
      "Instructions for updating:\n",
      "Use standard file APIs to delete files with this prefix.\n"
     ]
    },
    {
     "name": "stderr",
     "output_type": "stream",
     "text": [
      "WARNING:tensorflow:From /home/aayush/git/fitapp_analysis/fitapp_aayush/lib/python3.9/site-packages/tensorflow/python/training/saver.py:1066: remove_checkpoint (from tensorflow.python.training.checkpoint_management) is deprecated and will be removed in a future version.\n",
      "Instructions for updating:\n",
      "Use standard file APIs to delete files with this prefix.\n"
     ]
    },
    {
     "name": "stdout",
     "output_type": "stream",
     "text": [
      "INFO:tensorflow:/tmp/recsim/train/checkpoints/tf_ckpt-4.index\n"
     ]
    },
    {
     "name": "stderr",
     "output_type": "stream",
     "text": [
      "INFO:tensorflow:/tmp/recsim/train/checkpoints/tf_ckpt-4.index\n"
     ]
    },
    {
     "name": "stdout",
     "output_type": "stream",
     "text": [
      "INFO:tensorflow:100\n"
     ]
    },
    {
     "name": "stderr",
     "output_type": "stream",
     "text": [
      "INFO:tensorflow:100\n"
     ]
    },
    {
     "name": "stdout",
     "output_type": "stream",
     "text": [
      "INFO:tensorflow:/tmp/recsim/train/checkpoints/tf_ckpt-4.data-00000-of-00001\n"
     ]
    },
    {
     "name": "stderr",
     "output_type": "stream",
     "text": [
      "INFO:tensorflow:/tmp/recsim/train/checkpoints/tf_ckpt-4.data-00000-of-00001\n"
     ]
    },
    {
     "name": "stdout",
     "output_type": "stream",
     "text": [
      "INFO:tensorflow:51700\n"
     ]
    },
    {
     "name": "stderr",
     "output_type": "stream",
     "text": [
      "INFO:tensorflow:51700\n"
     ]
    },
    {
     "name": "stdout",
     "output_type": "stream",
     "text": [
      "INFO:tensorflow:/tmp/recsim/train/checkpoints/tf_ckpt-4.meta\n"
     ]
    },
    {
     "name": "stderr",
     "output_type": "stream",
     "text": [
      "INFO:tensorflow:/tmp/recsim/train/checkpoints/tf_ckpt-4.meta\n"
     ]
    },
    {
     "name": "stdout",
     "output_type": "stream",
     "text": [
      "INFO:tensorflow:63500\n"
     ]
    },
    {
     "name": "stderr",
     "output_type": "stream",
     "text": [
      "INFO:tensorflow:63500\n"
     ]
    },
    {
     "name": "stdout",
     "output_type": "stream",
     "text": [
      "INFO:tensorflow:Starting iteration 5\n"
     ]
    },
    {
     "name": "stderr",
     "output_type": "stream",
     "text": [
      "INFO:tensorflow:Starting iteration 5\n"
     ]
    },
    {
     "name": "stdout",
     "output_type": "stream",
     "text": [
      "INFO:tensorflow:/tmp/recsim/train/checkpoints/tf_ckpt-5.data-00000-of-00001\n"
     ]
    },
    {
     "name": "stderr",
     "output_type": "stream",
     "text": [
      "INFO:tensorflow:/tmp/recsim/train/checkpoints/tf_ckpt-5.data-00000-of-00001\n"
     ]
    },
    {
     "name": "stdout",
     "output_type": "stream",
     "text": [
      "INFO:tensorflow:51600\n"
     ]
    },
    {
     "name": "stderr",
     "output_type": "stream",
     "text": [
      "INFO:tensorflow:51600\n"
     ]
    },
    {
     "name": "stdout",
     "output_type": "stream",
     "text": [
      "INFO:tensorflow:/tmp/recsim/train/checkpoints/tf_ckpt-5.meta\n"
     ]
    },
    {
     "name": "stderr",
     "output_type": "stream",
     "text": [
      "INFO:tensorflow:/tmp/recsim/train/checkpoints/tf_ckpt-5.meta\n"
     ]
    },
    {
     "name": "stdout",
     "output_type": "stream",
     "text": [
      "INFO:tensorflow:63400\n"
     ]
    },
    {
     "name": "stderr",
     "output_type": "stream",
     "text": [
      "INFO:tensorflow:63400\n"
     ]
    },
    {
     "name": "stdout",
     "output_type": "stream",
     "text": [
      "INFO:tensorflow:/tmp/recsim/train/checkpoints/tf_ckpt-5.index\n"
     ]
    },
    {
     "name": "stderr",
     "output_type": "stream",
     "text": [
      "INFO:tensorflow:/tmp/recsim/train/checkpoints/tf_ckpt-5.index\n"
     ]
    },
    {
     "name": "stdout",
     "output_type": "stream",
     "text": [
      "INFO:tensorflow:63500\n"
     ]
    },
    {
     "name": "stderr",
     "output_type": "stream",
     "text": [
      "INFO:tensorflow:63500\n"
     ]
    },
    {
     "name": "stdout",
     "output_type": "stream",
     "text": [
      "INFO:tensorflow:Starting iteration 6\n"
     ]
    },
    {
     "name": "stderr",
     "output_type": "stream",
     "text": [
      "INFO:tensorflow:Starting iteration 6\n"
     ]
    },
    {
     "name": "stdout",
     "output_type": "stream",
     "text": [
      "INFO:tensorflow:/tmp/recsim/train/checkpoints/tf_ckpt-6.index\n"
     ]
    },
    {
     "name": "stderr",
     "output_type": "stream",
     "text": [
      "INFO:tensorflow:/tmp/recsim/train/checkpoints/tf_ckpt-6.index\n"
     ]
    },
    {
     "name": "stdout",
     "output_type": "stream",
     "text": [
      "INFO:tensorflow:100\n"
     ]
    },
    {
     "name": "stderr",
     "output_type": "stream",
     "text": [
      "INFO:tensorflow:100\n"
     ]
    },
    {
     "name": "stdout",
     "output_type": "stream",
     "text": [
      "INFO:tensorflow:/tmp/recsim/train/checkpoints/tf_ckpt-6.data-00000-of-00001\n"
     ]
    },
    {
     "name": "stderr",
     "output_type": "stream",
     "text": [
      "INFO:tensorflow:/tmp/recsim/train/checkpoints/tf_ckpt-6.data-00000-of-00001\n"
     ]
    },
    {
     "name": "stdout",
     "output_type": "stream",
     "text": [
      "INFO:tensorflow:51700\n"
     ]
    },
    {
     "name": "stderr",
     "output_type": "stream",
     "text": [
      "INFO:tensorflow:51700\n"
     ]
    },
    {
     "name": "stdout",
     "output_type": "stream",
     "text": [
      "INFO:tensorflow:/tmp/recsim/train/checkpoints/tf_ckpt-6.meta\n"
     ]
    },
    {
     "name": "stderr",
     "output_type": "stream",
     "text": [
      "INFO:tensorflow:/tmp/recsim/train/checkpoints/tf_ckpt-6.meta\n"
     ]
    },
    {
     "name": "stdout",
     "output_type": "stream",
     "text": [
      "INFO:tensorflow:63500\n"
     ]
    },
    {
     "name": "stderr",
     "output_type": "stream",
     "text": [
      "INFO:tensorflow:63500\n"
     ]
    },
    {
     "name": "stdout",
     "output_type": "stream",
     "text": [
      "INFO:tensorflow:Starting iteration 7\n"
     ]
    },
    {
     "name": "stderr",
     "output_type": "stream",
     "text": [
      "INFO:tensorflow:Starting iteration 7\n"
     ]
    },
    {
     "name": "stdout",
     "output_type": "stream",
     "text": [
      "INFO:tensorflow:/tmp/recsim/train/checkpoints/tf_ckpt-7.index\n"
     ]
    },
    {
     "name": "stderr",
     "output_type": "stream",
     "text": [
      "INFO:tensorflow:/tmp/recsim/train/checkpoints/tf_ckpt-7.index\n"
     ]
    },
    {
     "name": "stdout",
     "output_type": "stream",
     "text": [
      "INFO:tensorflow:100\n"
     ]
    },
    {
     "name": "stderr",
     "output_type": "stream",
     "text": [
      "INFO:tensorflow:100\n"
     ]
    },
    {
     "name": "stdout",
     "output_type": "stream",
     "text": [
      "INFO:tensorflow:/tmp/recsim/train/checkpoints/tf_ckpt-7.meta\n"
     ]
    },
    {
     "name": "stderr",
     "output_type": "stream",
     "text": [
      "INFO:tensorflow:/tmp/recsim/train/checkpoints/tf_ckpt-7.meta\n"
     ]
    },
    {
     "name": "stdout",
     "output_type": "stream",
     "text": [
      "INFO:tensorflow:11900\n"
     ]
    },
    {
     "name": "stderr",
     "output_type": "stream",
     "text": [
      "INFO:tensorflow:11900\n"
     ]
    },
    {
     "name": "stdout",
     "output_type": "stream",
     "text": [
      "INFO:tensorflow:/tmp/recsim/train/checkpoints/tf_ckpt-7.data-00000-of-00001\n"
     ]
    },
    {
     "name": "stderr",
     "output_type": "stream",
     "text": [
      "INFO:tensorflow:/tmp/recsim/train/checkpoints/tf_ckpt-7.data-00000-of-00001\n"
     ]
    },
    {
     "name": "stdout",
     "output_type": "stream",
     "text": [
      "INFO:tensorflow:63500\n"
     ]
    },
    {
     "name": "stderr",
     "output_type": "stream",
     "text": [
      "INFO:tensorflow:63500\n"
     ]
    },
    {
     "name": "stdout",
     "output_type": "stream",
     "text": [
      "INFO:tensorflow:Starting iteration 8\n"
     ]
    },
    {
     "name": "stderr",
     "output_type": "stream",
     "text": [
      "INFO:tensorflow:Starting iteration 8\n"
     ]
    },
    {
     "name": "stdout",
     "output_type": "stream",
     "text": [
      "INFO:tensorflow:/tmp/recsim/train/checkpoints/tf_ckpt-8.meta\n"
     ]
    },
    {
     "name": "stderr",
     "output_type": "stream",
     "text": [
      "INFO:tensorflow:/tmp/recsim/train/checkpoints/tf_ckpt-8.meta\n"
     ]
    },
    {
     "name": "stdout",
     "output_type": "stream",
     "text": [
      "INFO:tensorflow:11800\n"
     ]
    },
    {
     "name": "stderr",
     "output_type": "stream",
     "text": [
      "INFO:tensorflow:11800\n"
     ]
    },
    {
     "name": "stdout",
     "output_type": "stream",
     "text": [
      "INFO:tensorflow:/tmp/recsim/train/checkpoints/tf_ckpt-8.data-00000-of-00001\n"
     ]
    },
    {
     "name": "stderr",
     "output_type": "stream",
     "text": [
      "INFO:tensorflow:/tmp/recsim/train/checkpoints/tf_ckpt-8.data-00000-of-00001\n"
     ]
    },
    {
     "name": "stdout",
     "output_type": "stream",
     "text": [
      "INFO:tensorflow:63400\n"
     ]
    },
    {
     "name": "stderr",
     "output_type": "stream",
     "text": [
      "INFO:tensorflow:63400\n"
     ]
    },
    {
     "name": "stdout",
     "output_type": "stream",
     "text": [
      "INFO:tensorflow:/tmp/recsim/train/checkpoints/tf_ckpt-8.index\n"
     ]
    },
    {
     "name": "stderr",
     "output_type": "stream",
     "text": [
      "INFO:tensorflow:/tmp/recsim/train/checkpoints/tf_ckpt-8.index\n"
     ]
    },
    {
     "name": "stdout",
     "output_type": "stream",
     "text": [
      "INFO:tensorflow:63500\n"
     ]
    },
    {
     "name": "stderr",
     "output_type": "stream",
     "text": [
      "INFO:tensorflow:63500\n"
     ]
    },
    {
     "name": "stdout",
     "output_type": "stream",
     "text": [
      "INFO:tensorflow:Starting iteration 9\n"
     ]
    },
    {
     "name": "stderr",
     "output_type": "stream",
     "text": [
      "INFO:tensorflow:Starting iteration 9\n"
     ]
    },
    {
     "name": "stdout",
     "output_type": "stream",
     "text": [
      "INFO:tensorflow:/tmp/recsim/train/checkpoints/tf_ckpt-9.index\n"
     ]
    },
    {
     "name": "stderr",
     "output_type": "stream",
     "text": [
      "INFO:tensorflow:/tmp/recsim/train/checkpoints/tf_ckpt-9.index\n"
     ]
    },
    {
     "name": "stdout",
     "output_type": "stream",
     "text": [
      "INFO:tensorflow:100\n"
     ]
    },
    {
     "name": "stderr",
     "output_type": "stream",
     "text": [
      "INFO:tensorflow:100\n"
     ]
    },
    {
     "name": "stdout",
     "output_type": "stream",
     "text": [
      "INFO:tensorflow:/tmp/recsim/train/checkpoints/tf_ckpt-9.data-00000-of-00001\n"
     ]
    },
    {
     "name": "stderr",
     "output_type": "stream",
     "text": [
      "INFO:tensorflow:/tmp/recsim/train/checkpoints/tf_ckpt-9.data-00000-of-00001\n"
     ]
    },
    {
     "name": "stdout",
     "output_type": "stream",
     "text": [
      "INFO:tensorflow:51700\n"
     ]
    },
    {
     "name": "stderr",
     "output_type": "stream",
     "text": [
      "INFO:tensorflow:51700\n"
     ]
    },
    {
     "name": "stdout",
     "output_type": "stream",
     "text": [
      "INFO:tensorflow:/tmp/recsim/train/checkpoints/tf_ckpt-9.meta\n"
     ]
    },
    {
     "name": "stderr",
     "output_type": "stream",
     "text": [
      "INFO:tensorflow:/tmp/recsim/train/checkpoints/tf_ckpt-9.meta\n"
     ]
    },
    {
     "name": "stdout",
     "output_type": "stream",
     "text": [
      "INFO:tensorflow:63500\n"
     ]
    },
    {
     "name": "stderr",
     "output_type": "stream",
     "text": [
      "INFO:tensorflow:63500\n"
     ]
    }
   ],
   "source": [
    "tmp_base_dir = '/tmp/recsim/'\n",
    "tf.compat.v1.disable_eager_execution()\n",
    "runner = runner_lib.TrainRunner(\n",
    "    base_dir=tmp_base_dir,\n",
    "    create_agent_fn=create_agent,\n",
    "    env=interest_evolution.create_environment(env_config),\n",
    "    episode_log_file=\"\",\n",
    "    max_training_steps=50,\n",
    "    num_iterations=10)\n",
    "runner.run_experiment()"
   ]
  },
  {
   "cell_type": "code",
   "execution_count": 8,
   "metadata": {},
   "outputs": [
    {
     "name": "stdout",
     "output_type": "stream",
     "text": [
      "INFO:tensorflow:max_eval_episodes = 5\n"
     ]
    },
    {
     "name": "stderr",
     "output_type": "stream",
     "text": [
      "INFO:tensorflow:max_eval_episodes = 5\n"
     ]
    },
    {
     "name": "stdout",
     "output_type": "stream",
     "text": [
      "INFO:tensorflow:max_steps_per_episode = 27000\n"
     ]
    },
    {
     "name": "stderr",
     "output_type": "stream",
     "text": [
      "INFO:tensorflow:max_steps_per_episode = 27000\n",
      "2022-10-04 12:14:10.633159: W tensorflow/core/common_runtime/gpu/gpu_device.cc:1850] Cannot dlopen some GPU libraries. Please make sure the missing libraries mentioned above are installed properly if you would like to use GPU. Follow the guide at https://www.tensorflow.org/install/gpu for how to download and setup the required libraries for your platform.\n",
      "Skipping registering GPU devices...\n"
     ]
    },
    {
     "name": "stdout",
     "output_type": "stream",
     "text": [
      "INFO:tensorflow:Beginning evaluation...\n"
     ]
    },
    {
     "name": "stderr",
     "output_type": "stream",
     "text": [
      "INFO:tensorflow:Beginning evaluation...\n"
     ]
    },
    {
     "name": "stdout",
     "output_type": "stream",
     "text": [
      "INFO:tensorflow:Restoring parameters from /tmp/recsim/train/checkpoints/tf_ckpt-9\n"
     ]
    },
    {
     "name": "stderr",
     "output_type": "stream",
     "text": [
      "INFO:tensorflow:Restoring parameters from /tmp/recsim/train/checkpoints/tf_ckpt-9\n"
     ]
    },
    {
     "name": "stdout",
     "output_type": "stream",
     "text": [
      "INFO:tensorflow:eval_file: /tmp/recsim/eval_5/returns_835\n"
     ]
    },
    {
     "name": "stderr",
     "output_type": "stream",
     "text": [
      "INFO:tensorflow:eval_file: /tmp/recsim/eval_5/returns_835\n"
     ]
    }
   ],
   "source": [
    "runner = runner_lib.EvalRunner(\n",
    "      base_dir=tmp_base_dir,\n",
    "      create_agent_fn=create_agent,\n",
    "      env=interest_evolution.create_environment(env_config),\n",
    "      max_eval_episodes=5,\n",
    "      test_mode=True)\n",
    "runner.run_experiment()"
   ]
  }
 ],
 "metadata": {
  "kernelspec": {
   "display_name": "Python 3.9.7 ('fitapp_aayush': venv)",
   "language": "python",
   "name": "python3"
  },
  "language_info": {
   "codemirror_mode": {
    "name": "ipython",
    "version": 3
   },
   "file_extension": ".py",
   "mimetype": "text/x-python",
   "name": "python",
   "nbconvert_exporter": "python",
   "pygments_lexer": "ipython3",
   "version": "3.9.7"
  },
  "orig_nbformat": 4,
  "vscode": {
   "interpreter": {
    "hash": "a6a31ade3159a8ae9629d15702bfa921f314894f16ec77f22567681e24dda767"
   }
  }
 },
 "nbformat": 4,
 "nbformat_minor": 2
}
