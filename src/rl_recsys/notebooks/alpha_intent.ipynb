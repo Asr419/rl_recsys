{
 "cells": [
  {
   "cell_type": "code",
   "execution_count": 1,
   "metadata": {},
   "outputs": [
    {
     "name": "stderr",
     "output_type": "stream",
     "text": [
      "/home/edoardo/GitProjects/rl_recsys/.venv/lib/python3.9/site-packages/tqdm/auto.py:21: TqdmWarning: IProgress not found. Please update jupyter and ipywidgets. See https://ipywidgets.readthedocs.io/en/stable/user_install.html\n",
      "  from .autonotebook import tqdm as notebook_tqdm\n"
     ]
    }
   ],
   "source": [
    "import torch\n",
    "import pandas as pd\n",
    "import numpy as np\n",
    "import matplotlib.pyplot as plt"
   ]
  },
  {
   "cell_type": "code",
   "execution_count": 31,
   "metadata": {},
   "outputs": [],
   "source": [
    "user_features = np.random.uniform(-1, 1, 14)\n",
    "#  plt.scatter(np.arange(14), np.random.uniform(-1, 1, 14))"
   ]
  },
  {
   "cell_type": "code",
   "execution_count": null,
   "metadata": {},
   "outputs": [],
   "source": []
  },
  {
   "cell_type": "code",
   "execution_count": 32,
   "metadata": {},
   "outputs": [],
   "source": [
    "def generate_state2(user_features) -> torch.Tensor:\n",
    "    user_state = user_features.copy()\n",
    "    \n",
    "    tgt_feature_idx = None\n",
    "    tgt_feat_val = -1\n",
    "    while tgt_feat_val < 0:\n",
    "        tgt_feature_idx = np.random.randint(0, len(user_features), size=(1,))\n",
    "        tgt_feat_val = user_features[tgt_feature_idx]\n",
    "    \n",
    "    # count of positive interest of user\n",
    "    pos_val_count = len(user_state[user_state>0])\n",
    "    pos_sum = np.sum(user_state[user_state>0])\n",
    "    \n",
    "    alpha = 1-tgt_feat_val\n",
    "    print(alpha)\n",
    "    user_state[tgt_feature_idx]=1\n",
    "    \n",
    "    decrement = alpha/(pos_val_count-1)\n",
    "    # decrement = alpha/(pos_sum)\n",
    "    user_state[user_state>0] -= decrement\n",
    "    return user_state"
   ]
  },
  {
   "cell_type": "code",
   "execution_count": 33,
   "metadata": {},
   "outputs": [
    {
     "name": "stdout",
     "output_type": "stream",
     "text": [
      "[0.11258974]\n"
     ]
    }
   ],
   "source": [
    "intent=generate_state2(user_features)"
   ]
  },
  {
   "cell_type": "code",
   "execution_count": 34,
   "metadata": {},
   "outputs": [
    {
     "data": {
      "text/plain": [
       "<matplotlib.collections.PathCollection at 0x7f49dbab4130>"
      ]
     },
     "execution_count": 34,
     "metadata": {},
     "output_type": "execute_result"
    },
    {
     "data": {
      "image/png": "[encoded data removed]",
      "text/plain": [
       "<Figure size 640x480 with 1 Axes>"
      ]
     },
     "metadata": {},
     "output_type": "display_data"
    }
   ],
   "source": [
    "plt.scatter(np.arange(14), user_features)\n",
    "plt.scatter(np.arange(14), intent)"
   ]
  },
  {
   "cell_type": "code",
   "execution_count": null,
   "metadata": {},
   "outputs": [],
   "source": [
    "def generate_state(user_features: torch.Tensor) -> torch.Tensor:\n",
    "    user_state = torch.Tensor(user_features).clone()\n",
    "    \n",
    "    tgt_feature_idx = None\n",
    "    tgt_feat_val = -1\n",
    "    while tgt_feat_val < 0:\n",
    "        tgt_feature_idx = torch.randint(0, len(user_features), size=(1,))\n",
    "        tgt_feat_val = user_features[tgt_feature_idx]\n",
    "    \n",
    "    alpha = tgt_feat_val \n",
    "\n",
    "    # sample alpha from a uniform distribution\n",
    "    alpha = torch.rand(1)\n",
    "    # alpha = 0.8\n",
    "    alpha = 0.8 * alpha + 0.2  # alpha between 0.2 and 1\n",
    "\n",
    "    print(alpha)\n",
    "    inv_alpha = 1 - alpha\n",
    "\n",
    "    # creating tgt feature mask and inverse mask\n",
    "    feat_mask = torch.zeros(len(user_state))\n",
    "    inv_feat_mask = torch.ones(len(user_state))\n",
    "\n",
    "    tgt_feature_idx = None\n",
    "    tgt_feat_val = -1\n",
    "    while tgt_feat_val < 0:\n",
    "        tgt_feature_idx = torch.randint(0, len(user_features), size=(1,))\n",
    "        tgt_feat_val = user_features[tgt_feature_idx]\n",
    "\n",
    "    print(tgt_feature_idx, tgt_feat_val)\n",
    "    # select target feature randomly\n",
    "    feat_mask[tgt_feature_idx] = 1\n",
    "    \n",
    "    inv_feat_mask[tgt_feature_idx] = 0\n",
    "    inv_feat_mask[user_features < 0] = 0\n",
    "\n",
    "    user_state[feat_mask == 1] = alpha * user_state[feat_mask == 1]\n",
    "    user_state[inv_feat_mask == 1] = (\n",
    "        inv_alpha/(len(user_features[user_features>0])-1)* user_state[inv_feat_mask == 1]\n",
    "    )\n",
    "\n",
    "    return user_state"
   ]
  }
 ],
 "metadata": {
  "kernelspec": {
   "display_name": ".venv",
   "language": "python",
   "name": "python3"
  },
  "language_info": {
   "codemirror_mode": {
    "name": "ipython",
    "version": 3
   },
   "file_extension": ".py",
   "mimetype": "text/x-python",
   "name": "python",
   "nbconvert_exporter": "python",
   "pygments_lexer": "ipython3",
   "version": "3.9.7"
  },
  "orig_nbformat": 4
 },
 "nbformat": 4,
 "nbformat_minor": 2
}
