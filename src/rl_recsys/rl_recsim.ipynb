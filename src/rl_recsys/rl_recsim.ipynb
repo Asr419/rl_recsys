{
 "cells": [
  {
   "cell_type": "code",
   "execution_count": 2,
   "metadata": {},
   "outputs": [
    {
     "name": "stderr",
     "output_type": "stream",
     "text": [
      "2023-02-20 18:57:38.567192: I tensorflow/core/platform/cpu_feature_guard.cc:193] This TensorFlow binary is optimized with oneAPI Deep Neural Network Library (oneDNN) to use the following CPU instructions in performance-critical operations:  AVX2 FMA\n",
      "To enable them in other operations, rebuild TensorFlow with the appropriate compiler flags.\n",
      "2023-02-20 18:57:38.720411: W tensorflow/compiler/xla/stream_executor/platform/default/dso_loader.cc:64] Could not load dynamic library 'libcudart.so.11.0'; dlerror: libcudart.so.11.0: cannot open shared object file: No such file or directory; LD_LIBRARY_PATH: /home/aayush/git/rl_recsys/.venv/lib/python3.9/site-packages/cv2/../../lib64:\n",
      "2023-02-20 18:57:38.720455: I tensorflow/compiler/xla/stream_executor/cuda/cudart_stub.cc:29] Ignore above cudart dlerror if you do not have a GPU set up on your machine.\n",
      "2023-02-20 18:57:39.605547: W tensorflow/compiler/xla/stream_executor/platform/default/dso_loader.cc:64] Could not load dynamic library 'libnvinfer.so.7'; dlerror: libnvinfer.so.7: cannot open shared object file: No such file or directory; LD_LIBRARY_PATH: /home/aayush/git/rl_recsys/.venv/lib/python3.9/site-packages/cv2/../../lib64:\n",
      "2023-02-20 18:57:39.605677: W tensorflow/compiler/xla/stream_executor/platform/default/dso_loader.cc:64] Could not load dynamic library 'libnvinfer_plugin.so.7'; dlerror: libnvinfer_plugin.so.7: cannot open shared object file: No such file or directory; LD_LIBRARY_PATH: /home/aayush/git/rl_recsys/.venv/lib/python3.9/site-packages/cv2/../../lib64:\n",
      "2023-02-20 18:57:39.605691: W tensorflow/compiler/tf2tensorrt/utils/py_utils.cc:38] TF-TRT Warning: Cannot dlopen some TensorRT libraries. If you would like to use Nvidia GPU with TensorRT, please make sure the missing libraries mentioned above are installed properly.\n",
      "/home/aayush/git/rl_recsys/.venv/lib/python3.9/site-packages/gin/tf/__init__.py:48: DeprecationWarning: distutils Version classes are deprecated. Use packaging.version instead.\n",
      "  if (distutils.version.LooseVersion(tf.__version__) <\n"
     ]
    }
   ],
   "source": [
    "import pandas as pd\n",
    "import numpy as np\n",
    "from gym import spaces\n",
    "import matplotlib.pyplot as plt\n",
    "from scipy import stats\n",
    "import random\n",
    "from recsim import document\n",
    "from recsim import user\n",
    "from pathlib import Path\n",
    "from user_sampler import LTSStaticUserSampler\n",
    "from document_sampler import LTSDocumentSampler\n",
    "\n",
    "from gym import Env\n",
    "from gym.spaces import Discrete, Box\n",
    "from numpy import int64\n",
    "\n",
    "from keras.models import Sequential\n",
    "from keras.layers import Dense, Activation, Flatten\n",
    "from keras.optimizers import Adam\n",
    "from gym.spaces import Box, Discrete\n",
    "from tqdm import tqdm\n",
    "\n",
    "  \n",
    "from rl.agents.dqn import DQNAgent\n",
    "from rl.policy import EpsGreedyQPolicy\n",
    "from rl.memory import SequentialMemory\n",
    "from rl.agents import DQNAgent\n",
    "from rl.policy import BoltzmannQPolicy\n",
    "from rl.memory import SequentialMemory"
   ]
  },
  {
   "cell_type": "code",
   "execution_count": 2,
   "metadata": {},
   "outputs": [
    {
     "name": "stderr",
     "output_type": "stream",
     "text": [
      "/home/aayush/git/rl_recsys/src/recsim/user_sampler.py:131: DeprecationWarning: This function is deprecated. Please call randint(20, 60 + 1) instead\n",
      "  self._state_parameters[\"age\"] = np.random.random_integers(20, 60)\n",
      "/home/aayush/git/rl_recsys/src/recsim/user_sampler.py:132: DeprecationWarning: This function is deprecated. Please call randint(1, 2 + 1) instead\n",
      "  self._state_parameters[\"gender\"] = np.random.random_integers(2)\n",
      "/home/aayush/git/rl_recsys/src/recsim/user_sampler.py:147: DeprecationWarning: This function is deprecated. Please call randint(1, 4 + 1) instead\n",
      "  self._state_parameters[\"label\"] = np.random.random_integers(4)\n",
      "/home/aayush/git/rl_recsys/src/recsim/user_sampler.py:149: DeprecationWarning: This function is deprecated. Please call randint(1, 12 + 1) instead\n",
      "  self._state_parameters[\"key\"] = np.random.random_integers(12)\n"
     ]
    },
    {
     "data": {
      "text/plain": [
       "1"
      ]
     },
     "execution_count": 2,
     "metadata": {},
     "output_type": "execute_result"
    }
   ],
   "source": [
    "sampler = LTSStaticUserSampler()\n",
    "k=sampler.sample_user()\n",
    "k.mode"
   ]
  },
  {
   "cell_type": "code",
   "execution_count": 3,
   "metadata": {},
   "outputs": [],
   "source": [
    "df = pd.DataFrame(columns=['age', 'gender','valence','danceability','loudness','speechiness','acousticness','liveness','mood', 'tempo','key','energy','mode','duration_ms', 'instrumentalness'])\n",
    "trained_users= pd.DataFrame(columns=['age', 'gender','valence','danceability','loudness','speechiness','acousticness','liveness','mood', 'tempo','key','energy','mode','duration_ms', 'instrumentalness'])\n",
    "def getUser(User):\n",
    "    sampler = LTSStaticUserSampler()\n",
    "    k=sampler.sample_user()\n",
    "    User=User.append({'age': k.age , 'gender':k.gender,'valence':k.valence,'danceability':k.danceability,'loudness':k.loudness,'speechiness':k.speechiness,'acousticness':k.acousticness,'liveness':k.liveness,'mood':k.label, \"mode\": k.mode,\n",
    "                \"key\": k.key, \"duration_ms\": k.duration_ms,\"tempo\": k.tempo, \"energy\": k.energy, \"instrumentalness\": k.instrumentalness,}, ignore_index=True)\n",
    "    return User"
   ]
  },
  {
   "cell_type": "code",
   "execution_count": 4,
   "metadata": {},
   "outputs": [
    {
     "name": "stderr",
     "output_type": "stream",
     "text": [
      "/home/aayush/git/rl_recsys/src/recsim/user_sampler.py:131: DeprecationWarning: This function is deprecated. Please call randint(20, 60 + 1) instead\n",
      "  self._state_parameters[\"age\"] = np.random.random_integers(20, 60)\n",
      "/home/aayush/git/rl_recsys/src/recsim/user_sampler.py:132: DeprecationWarning: This function is deprecated. Please call randint(1, 2 + 1) instead\n",
      "  self._state_parameters[\"gender\"] = np.random.random_integers(2)\n",
      "/home/aayush/git/rl_recsys/src/recsim/user_sampler.py:147: DeprecationWarning: This function is deprecated. Please call randint(1, 4 + 1) instead\n",
      "  self._state_parameters[\"label\"] = np.random.random_integers(4)\n",
      "/home/aayush/git/rl_recsys/src/recsim/user_sampler.py:149: DeprecationWarning: This function is deprecated. Please call randint(1, 12 + 1) instead\n",
      "  self._state_parameters[\"key\"] = np.random.random_integers(12)\n",
      "/tmp/ipykernel_4054131/2097340565.py:6: FutureWarning: The frame.append method is deprecated and will be removed from pandas in a future version. Use pandas.concat instead.\n",
      "  User=User.append({'age': k.age , 'gender':k.gender,'valence':k.valence,'danceability':k.danceability,'loudness':k.loudness,'speechiness':k.speechiness,'acousticness':k.acousticness,'liveness':k.liveness,'mood':k.label, \"mode\": k.mode,\n",
      "/tmp/ipykernel_4054131/2193606151.py:1: FutureWarning: The frame.append method is deprecated and will be removed from pandas in a future version. Use pandas.concat instead.\n",
      "  User=df.append(getUser(df))\n",
      "/tmp/ipykernel_4054131/2193606151.py:2: FutureWarning: The frame.append method is deprecated and will be removed from pandas in a future version. Use pandas.concat instead.\n",
      "  trained_users=trained_users.append(User, ignore_index=True)\n"
     ]
    }
   ],
   "source": [
    "User=df.append(getUser(df))\n",
    "trained_users=trained_users.append(User, ignore_index=True)\n"
   ]
  },
  {
   "cell_type": "code",
   "execution_count": 5,
   "metadata": {},
   "outputs": [
    {
     "data": {
      "text/html": [
       "<div>\n",
       "<style scoped>\n",
       "    .dataframe tbody tr th:only-of-type {\n",
       "        vertical-align: middle;\n",
       "    }\n",
       "\n",
       "    .dataframe tbody tr th {\n",
       "        vertical-align: top;\n",
       "    }\n",
       "\n",
       "    .dataframe thead th {\n",
       "        text-align: right;\n",
       "    }\n",
       "</style>\n",
       "<table border=\"1\" class=\"dataframe\">\n",
       "  <thead>\n",
       "    <tr style=\"text-align: right;\">\n",
       "      <th></th>\n",
       "      <th>age</th>\n",
       "      <th>gender</th>\n",
       "      <th>valence</th>\n",
       "      <th>danceability</th>\n",
       "      <th>loudness</th>\n",
       "      <th>speechiness</th>\n",
       "      <th>acousticness</th>\n",
       "      <th>liveness</th>\n",
       "      <th>mood</th>\n",
       "      <th>tempo</th>\n",
       "      <th>key</th>\n",
       "      <th>energy</th>\n",
       "      <th>mode</th>\n",
       "      <th>duration_ms</th>\n",
       "      <th>instrumentalness</th>\n",
       "    </tr>\n",
       "  </thead>\n",
       "  <tbody>\n",
       "    <tr>\n",
       "      <th>0</th>\n",
       "      <td>44.0</td>\n",
       "      <td>1.0</td>\n",
       "      <td>0.990408</td>\n",
       "      <td>0.257983</td>\n",
       "      <td>0.773195</td>\n",
       "      <td>0.169707</td>\n",
       "      <td>0.858092</td>\n",
       "      <td>0.133329</td>\n",
       "      <td>3.0</td>\n",
       "      <td>210.191185</td>\n",
       "      <td>7.0</td>\n",
       "      <td>0.840216</td>\n",
       "      <td>1.0</td>\n",
       "      <td>238704.20238</td>\n",
       "      <td>0.181184</td>\n",
       "    </tr>\n",
       "  </tbody>\n",
       "</table>\n",
       "</div>"
      ],
      "text/plain": [
       "    age  gender   valence  danceability  loudness  speechiness  acousticness  \\\n",
       "0  44.0     1.0  0.990408      0.257983  0.773195     0.169707      0.858092   \n",
       "\n",
       "   liveness  mood       tempo  key    energy  mode   duration_ms  \\\n",
       "0  0.133329   3.0  210.191185  7.0  0.840216   1.0  238704.20238   \n",
       "\n",
       "   instrumentalness  \n",
       "0          0.181184  "
      ]
     },
     "execution_count": 5,
     "metadata": {},
     "output_type": "execute_result"
    }
   ],
   "source": [
    "trained_users"
   ]
  },
  {
   "cell_type": "code",
   "execution_count": 6,
   "metadata": {},
   "outputs": [],
   "source": [
    "DATASET_NAME = \"Spotify\"\n",
    "_DATA_PATH = Path(Path.home() / \"rsys_data\")\n",
    "_DATASET_PATH = _DATA_PATH / DATASET_NAME\n",
    "songs = pd.read_feather(_DATASET_PATH) "
   ]
  },
  {
   "cell_type": "code",
   "execution_count": 7,
   "metadata": {},
   "outputs": [],
   "source": [
    "songs.to_csv(\"spotify.csv\")"
   ]
  },
  {
   "cell_type": "code",
   "execution_count": null,
   "metadata": {},
   "outputs": [],
   "source": []
  },
  {
   "cell_type": "code",
   "execution_count": 11,
   "metadata": {},
   "outputs": [],
   "source": [
    "songs_values=songs.drop(['name','artists','song_id'], axis=1)"
   ]
  },
  {
   "cell_type": "code",
   "execution_count": null,
   "metadata": {},
   "outputs": [],
   "source": [
    "def discretize_column(self, column_name, num_bins):\n",
    "        # Discretize a column by dividing it into num_bins equally-sized bins\n",
    "        min_val = self.df[column_name].min()\n",
    "        max_val = self.df[column_name].max()\n",
    "        bin_size = (max_val - min_val) / num_bins\n",
    "        bins = [min_val + i * bin_size for i in range(num_bins + 1)]\n",
    "        return pd.cut(self.df[column_name], bins, labels=False, include_lowest=True)"
   ]
  },
  {
   "cell_type": "code",
   "execution_count": 17,
   "metadata": {},
   "outputs": [
    {
     "name": "stderr",
     "output_type": "stream",
     "text": [
      "/home/aayush/git/rl_recsys/.venv/lib/python3.9/site-packages/gym/spaces/box.py:128: UserWarning: \u001b[33mWARN: Box bound precision lowered by casting to float32\u001b[0m\n",
      "  logger.warn(f\"Box bound precision lowered by casting to {self.dtype}\")\n"
     ]
    },
    {
     "data": {
      "text/plain": [
       "array([0.8967746 , 0.43700942, 0.3650389 , ..., 0.91910666, 0.98444384,\n",
       "       0.9500205 ], dtype=float32)"
      ]
     },
     "execution_count": 17,
     "metadata": {},
     "output_type": "execute_result"
    }
   ],
   "source": [
    "import numpy as np\n",
    "obs_low = np.zeros(len(songs_values)+2)\n",
    "obs_high = np.ones(len(songs_values)+2)\n",
    "observation_space = spaces.Box(low=obs_low, high=obs_high)\n",
    "observation_space.sample()"
   ]
  },
  {
   "cell_type": "code",
   "execution_count": 15,
   "metadata": {},
   "outputs": [
    {
     "data": {
      "text/plain": [
       "array([1769.67776253, 1405.9650874 , 1226.57990468,  267.47494684,\n",
       "       1637.07194693, 1969.31098211,  619.22609301, 1966.98828995,\n",
       "         86.13879871])"
      ]
     },
     "execution_count": 15,
     "metadata": {},
     "output_type": "execute_result"
    }
   ],
   "source": [
    "obs=spaces.Box(low=np.min(data), high=np.max(data), shape=data[0].shape, dtype=data.dtype)\n",
    "obs.sample()"
   ]
  },
  {
   "cell_type": "code",
   "execution_count": null,
   "metadata": {},
   "outputs": [],
   "source": [
    "song_dict=songs.to_dict()"
   ]
  },
  {
   "cell_type": "code",
   "execution_count": null,
   "metadata": {},
   "outputs": [],
   "source": [
    "class SpotifyEnv(Env):\n",
    "    def __init__(self):\n",
    "        self.i=0\n",
    "        self.action_space = Discrete(100)\n",
    "        self.observation_space = Box(low=0, high=100000, shape=(1,10), dtype=int64)\n",
    "        self.state = self.observation_space.sample().ravel()\n",
    "        \n",
    "    def step(self,action):\n",
    "        self.i+=1 \n",
    "        for j in range(self.i,10):\n",
    "            self.state[j]=-1\n",
    "        \n",
    "        self.next_state = self.observation_space.sample().ravel()\n",
    "        #self.next_state[0] = self.state[1]\n",
    "        #self.next_state[1]= action\n",
    "        \n",
    "        if action in self.state:\n",
    "            self.state[self.i]=action\n",
    "            reward = -10\n",
    "        else:  \n",
    "            self.state[self.i]=action \n",
    "            reward = getReward1(ru, D, self.state, action)\n",
    "        \n",
    "        if self.i==9:\n",
    "            print(self.state)\n",
    "            done=True\n",
    "        else:\n",
    "            done=False\n",
    "        info={}\n",
    "\n",
    "        return self.state, reward, done, info\n",
    "    def render(self):\n",
    "        # Implement viz\n",
    "        pass\n",
    "\n",
    "    def reset(self):\n",
    "        self.i=0\n",
    "        self.state = self.observation_space.sample().ravel()\n",
    "        return self.state"
   ]
  },
  {
   "cell_type": "code",
   "execution_count": 33,
   "metadata": {},
   "outputs": [],
   "source": [
    "import gym\n",
    "from gym import spaces\n",
    "import pandas as pd\n",
    "import numpy as np\n",
    "\n",
    "class SpotifyEnv(gym.Env):\n",
    "    metadata = {'render.modes': ['human']}\n",
    "\n",
    "\n",
    "    def __init__(self, df):\n",
    "        super(SpotifyEnv, self).__init__()\n",
    "\n",
    "        # Load the Spotify dataset from a CSV file\n",
    "        self.df = songs\n",
    "\n",
    "        # Get the audio features to use as the state space\n",
    "        self.features = ['danceability', 'loudness',\n",
    "                         'speechiness', 'acousticness', 'liveness',\n",
    "                         'valence']\n",
    "\n",
    "        # Set up the observation space\n",
    "        obs_low = np.zeros(len(self.features)+2)\n",
    "        obs_high = np.ones(len(self.features)+2)\n",
    "        self.observation_space = spaces.Box(low=obs_low, high=obs_high)\n",
    "\n",
    "        # Set up the action space\n",
    "        self.action_space = spaces.Discrete(2)\n",
    "\n",
    "    def get_observation(self):\n",
    "        # Get the current observation by extracting the audio features, song name and year from the current track\n",
    "        track_index = self.df.index\n",
    "        audio_features = self.df.loc[track_index, self.features].values\n",
    "        song_name = self.df.loc[track_index, 'name']\n",
    "        song_year = self.df.loc[track_index, 'year']\n",
    "        observation = np.concatenate((audio_features, [song_name, song_year]))\n",
    "        return observation"
   ]
  },
  {
   "cell_type": "code",
   "execution_count": 34,
   "metadata": {},
   "outputs": [
    {
     "name": "stderr",
     "output_type": "stream",
     "text": [
      "/home/aayush/git/rl_recsys/.venv/lib/python3.9/site-packages/gym/spaces/box.py:128: UserWarning: \u001b[33mWARN: Box bound precision lowered by casting to float32\u001b[0m\n",
      "  logger.warn(f\"Box bound precision lowered by casting to {self.dtype}\")\n"
     ]
    }
   ],
   "source": [
    "env=SpotifyEnv(songs)"
   ]
  },
  {
   "cell_type": "code",
   "execution_count": 35,
   "metadata": {},
   "outputs": [
    {
     "ename": "ValueError",
     "evalue": "all the input array dimensions for the concatenation axis must match exactly, but along dimension 1, the array at index 0 has size 6 and the array at index 1 has size 170653",
     "output_type": "error",
     "traceback": [
      "\u001b[0;31m---------------------------------------------------------------------------\u001b[0m",
      "\u001b[0;31mValueError\u001b[0m                                Traceback (most recent call last)",
      "Cell \u001b[0;32mIn [35], line 1\u001b[0m\n\u001b[0;32m----> 1\u001b[0m a\u001b[38;5;241m=\u001b[39m\u001b[43menv\u001b[49m\u001b[38;5;241;43m.\u001b[39;49m\u001b[43mget_observation\u001b[49m\u001b[43m(\u001b[49m\u001b[43m)\u001b[49m\n",
      "Cell \u001b[0;32mIn [33], line 35\u001b[0m, in \u001b[0;36mSpotifyEnv.get_observation\u001b[0;34m(self)\u001b[0m\n\u001b[1;32m     33\u001b[0m song_name \u001b[38;5;241m=\u001b[39m \u001b[38;5;28mself\u001b[39m\u001b[38;5;241m.\u001b[39mdf\u001b[38;5;241m.\u001b[39mloc[track_index, \u001b[38;5;124m'\u001b[39m\u001b[38;5;124mname\u001b[39m\u001b[38;5;124m'\u001b[39m]\n\u001b[1;32m     34\u001b[0m song_year \u001b[38;5;241m=\u001b[39m \u001b[38;5;28mself\u001b[39m\u001b[38;5;241m.\u001b[39mdf\u001b[38;5;241m.\u001b[39mloc[track_index, \u001b[38;5;124m'\u001b[39m\u001b[38;5;124myear\u001b[39m\u001b[38;5;124m'\u001b[39m]\n\u001b[0;32m---> 35\u001b[0m observation \u001b[38;5;241m=\u001b[39m \u001b[43mnp\u001b[49m\u001b[38;5;241;43m.\u001b[39;49m\u001b[43mconcatenate\u001b[49m\u001b[43m(\u001b[49m\u001b[43m(\u001b[49m\u001b[43maudio_features\u001b[49m\u001b[43m,\u001b[49m\u001b[43m \u001b[49m\u001b[43m[\u001b[49m\u001b[43msong_name\u001b[49m\u001b[43m,\u001b[49m\u001b[43m \u001b[49m\u001b[43msong_year\u001b[49m\u001b[43m]\u001b[49m\u001b[43m)\u001b[49m\u001b[43m)\u001b[49m\n\u001b[1;32m     36\u001b[0m \u001b[38;5;28;01mreturn\u001b[39;00m observation\n",
      "File \u001b[0;32m<__array_function__ internals>:180\u001b[0m, in \u001b[0;36mconcatenate\u001b[0;34m(*args, **kwargs)\u001b[0m\n",
      "\u001b[0;31mValueError\u001b[0m: all the input array dimensions for the concatenation axis must match exactly, but along dimension 1, the array at index 0 has size 6 and the array at index 1 has size 170653"
     ]
    }
   ],
   "source": [
    "a=env.get_observation()"
   ]
  },
  {
   "cell_type": "code",
   "execution_count": 24,
   "metadata": {},
   "outputs": [
    {
     "data": {
      "text/plain": [
       "array([0.78349143, 0.8573455 , 0.50605744, 0.24093565, 0.8928492 ,\n",
       "       0.19299725, 0.54204285, 0.62446463], dtype=float32)"
      ]
     },
     "execution_count": 24,
     "metadata": {},
     "output_type": "execute_result"
    }
   ],
   "source": [
    "a"
   ]
  },
  {
   "cell_type": "code",
   "execution_count": 1,
   "metadata": {},
   "outputs": [],
   "source": [
    "from p4 import UserState"
   ]
  }
 ],
 "metadata": {
  "kernelspec": {
   "display_name": "Python 3.9.7 ('.venv': poetry)",
   "language": "python",
   "name": "python3"
  },
  "language_info": {
   "codemirror_mode": {
    "name": "ipython",
    "version": 3
   },
   "file_extension": ".py",
   "mimetype": "text/x-python",
   "name": "python",
   "nbconvert_exporter": "python",
   "pygments_lexer": "ipython3",
   "version": "3.9.7"
  },
  "orig_nbformat": 4,
  "vscode": {
   "interpreter": {
    "hash": "4b1aae1df98fcdaba42211eb04fb1c10f1061d9efaa8b282c66397dab6b26e66"
   }
  }
 },
 "nbformat": 4,
 "nbformat_minor": 2
}
